{
 "cells": [
  {
   "cell_type": "markdown",
   "metadata": {},
   "source": [
    "#### 0.思路说明如下：\n",
    "调用MLR包（一个R中非常全面的机器学习包，包含回归、分类、生存分析、多标签等模型，可以调用一般算法，可以封装MLR包暂时尚未直接调用的算法，甚至可以直接调用h2o深度学习框架，使用说明文档：http://mlr-org.github.io/mlr-tutorial/devel/html/ ）封装lightgbm算法，自动调参。具体使用步骤如下（此处只涉及多分类模型，回归、二分类、多标签分类可以模仿封装）："
   ]
  },
  {
   "cell_type": "markdown",
   "metadata": {},
   "source": [
    "#### 1.加装相关软件包"
   ]
  },
  {
   "cell_type": "code",
   "execution_count": 1,
   "metadata": {},
   "outputs": [
    {
     "name": "stderr",
     "output_type": "stream",
     "text": [
      "Loading required package: R6\n",
      "Loading required package: ParamHelpers\n",
      "\n",
      "Attaching package: 'mlr'\n",
      "\n",
      "The following object is masked from 'package:MicrosoftML':\n",
      "\n",
      "    selectFeatures\n",
      "\n",
      "\n",
      "Attaching package: 'dplyr'\n",
      "\n",
      "The following object is masked from 'package:lightgbm':\n",
      "\n",
      "    slice\n",
      "\n",
      "The following objects are masked from 'package:stats':\n",
      "\n",
      "    filter, lag\n",
      "\n",
      "The following objects are masked from 'package:base':\n",
      "\n",
      "    intersect, setdiff, setequal, union\n",
      "\n"
     ]
    }
   ],
   "source": [
    "library(lightgbm)\n",
    "library(mlr)\n",
    "library(dplyr)"
   ]
  },
  {
   "cell_type": "markdown",
   "metadata": {},
   "source": [
    "#### 2.封装函数\n",
    "说明如下：\n",
    "1）具体使用方法请参考MLR包官方网址 http://mlr-org.github.io/mlr-tutorial/devel/html/ 中的Appendix部分，下面脚本中尽可能的添加了多分类使用说明，请查看后使用，以防错误；此处脚本未实现完全自动调用；  \n",
    "2）训练模型时设置验证数据集。"
   ]
  },
  {
   "cell_type": "code",
   "execution_count": 2,
   "metadata": {
    "collapsed": true
   },
   "outputs": [],
   "source": [
    "makeRLearner.classif.lgb = function() {\n",
    "    makeRLearnerClassif(\n",
    "        cl = \"classif.lgb\",\n",
    "        package = \"lightgbm\",\n",
    "        par.set = makeParamSet(\n",
    "            makeIntegerLearnerParam(id = \"num_iterations\", default = 100, lower=1), \n",
    "            makeIntegerLearnerParam(id = \"nrounds\", default = 10, lower = 1, upper = 1e4), \n",
    "            makeIntegerLearnerParam(id = \"verbose\", default = 1),\n",
    "            makeDiscreteLearnerParam(id = \"boosting\", default = \"gbdt\", values = c(\"gbdt\", \"rf\", \"dart\", \"goss\")), \n",
    "            makeNumericLearnerParam(id = \"learning_rate\", default = 0.1, lower = 0),\n",
    "            makeIntegerLearnerParam(id = \"max_depth\", default = -1, lower = -1),  \n",
    "            makeIntegerLearnerParam(id = \"min_data_in_leaf\", default = 20, lower = 0), \n",
    "            makeIntegerLearnerParam(id = \"num_leaves\", default = 31, lower = 1),\n",
    "            makeNumericLearnerParam(id = \"feature_fraction\", default = 1, lower = 0, upper = 1), \n",
    "            makeNumericLearnerParam(id = \"bagging_fraction\", default = 1, lower = 0, upper = 1),\n",
    "            makeIntegerLearnerParam(id = \"bagging_freq\", default = 0, lower = 0), \n",
    "            makeNumericLearnerParam(id = \"min_gain_to_split\", default = 0, lower = 0),\n",
    "            makeNumericLearnerParam(id = \"min_sum_hessian\", default = 10),\n",
    "            makeIntegerLearnerParam(id = \"early_stopping_round\", default = 0, lower = 0),\n",
    "            makeNumericLearnerParam(id = \"lambda_l1\", default = 0, lower = 0),\n",
    "            makeNumericLearnerParam(id = \"lambda_l2\", default = 0, lower = 0), \n",
    "            makeNumericLearnerParam(id = \"drop_rate\", default = 0.1, lower = 0, upper = 1, requires = quote(boosting == \"dart\")),\n",
    "            makeIntegerLearnerParam(id = \"max_drop\", default = 50, requires = quote(boosting == \"dart\")),\n",
    "            makeLogicalLearnerParam(id = \"uniform_drop\", default = FALSE, requires = quote(boosting == \"dart\")),\n",
    "            makeLogicalLearnerParam(id = \"xgboost_dart_mode\", default = FALSE, requires = quote(boosting == \"dart\")),\n",
    "            makeNumericLearnerParam(id = \"top_rate\", default = 0.2, lower = 0.1, upper = 1, requires = quote(boosting == \"goss\")),\n",
    "            makeNumericLearnerParam(id = \"other_rate\", default = 0.1, lower = 0, upper = 1, requires = quote(boosting == \"goss\")),\n",
    "            makeIntegerLearnerParam(id = \"max_cat_group\", default = 64),\n",
    "            makeIntegerLearnerParam(id = \"max_cat_threshold\", default = 256),\n",
    "            makeNumericLearnerParam(id = \"min_cat_smooth\", default = 5),\n",
    "            makeNumericLearnerParam(id = \"max_cat_smooth\", default = 100),\n",
    "            makeNumericLearnerParam(id = \"cat_smooth_ratio\", default = 0.01),\n",
    "            ## 用于分类变量，可以减小分类变量中噪音的影响，特别是类别中数据较少的分别变量\n",
    "            makeIntegerLearnerParam(id = \"max_bin\", default = 255),\n",
    "            ## 数据行分组数，少的分组数会降低训练精度（训练速度快），但是可以提升泛化能力\n",
    "            makeIntegerLearnerParam(id = \"min_data_in_bin\", default = 5),\n",
    "            ## 分组内最小用户数\n",
    "            makeLogicalLearnerParam(id = \"header\", default = FALSE),\n",
    "            ## 设置为TRUE表示数据有字段名\n",
    "            makeLogicalLearnerParam(id=\"use_missing\", default = TRUE,tunable = FALSE),\n",
    "            ## 设置为FALSE将不能对缺失值进行特殊操作 \n",
    "            makeLogicalLearnerParam(id = \"zero_as_missing\", default = FALSE),\n",
    "            ## 是否用0代替缺失值与未知值\n",
    "            makeIntegerLearnerParam(id = \"num_class\", default = 5, lower = 1, upper = 1e6),\n",
    "            ## 声明多分类中的类数\n",
    "            makeDiscreteLearnerParam(id = \"metric\", default = \"multi_logloss\", values = c(\"multi_logloss\", \"multi_error\")),\n",
    "            makeLogicalLearnerParam(id = \"is_training_metric\", default = TRUE),\n",
    "            ## set this to TRUE if need to output metric result of training\n",
    "            makeDiscreteLearnerParam(id = \"objective\", default = \"multiclass\", values = c(\"multiclass\", \"binary\")),\n",
    "            makeDiscreteLearnerParam(id = \"predict.method\", values = c(\"plug-in\", \"predictive\", \"debiased\"), default = \"plug-in\", when = \"predict\")\n",
    "        ),\n",
    "        par.vals = list(objective = \"multiclass\"),## 此处请按个人需求修改\n",
    "        properties = c(\"multiclass\", \"numerics\", \"factors\", \"prob\", \"weights\"), \n",
    "        name = \"LightGBM\",\n",
    "        short.name = \"lgb\",\n",
    "        note = \"Learner param 'predict.method' maps to 'method' in predict.lgb.\"\n",
    "    )\n",
    "}\n",
    "\n",
    "trainLearner.classif.lgb = function(.learner, .task, .subset, .weights = NULL,  ...) {\n",
    "    data = getTaskData(.task, .subset, target.extra = TRUE)\n",
    "    lgb.data1 = lgb.Dataset(\n",
    "        data = as.matrix(data$data[1:dim(data_train)[1], ]), ## 请将此处data_train修改为实际训练数据集的名称,见第3步\n",
    "        label = as.integer(data$target[1:dim(data_train)[1]]) - 1L ## 请将此处data_train修改为实际训练数据集的名称\n",
    "    )\n",
    "    lgb.data2 = lgb.Dataset.create.valid(\n",
    "        dataset = lgb.data1,\n",
    "        data = as.matrix(data$data[(dim(data_train)[1] + 1):dim(data_total)[1], ]), \n",
    "        ## 请将此处data_train修改为实际训练数据集的名称，data_total是指训练数据+验证数据集的名称，即所有数据,见第3步\n",
    "        label = as.integer(data$target[(dim(data_train)[1] + 1):dim(data_total)[1]]) - 1L\n",
    "        ## 请将此处data_train修改为实际训练数据集的名称，data_total是指训练数据+验证数据集的名称，即所有数据,见第3步\n",
    "    )\n",
    "    valids = list(test = lgb.data2)\n",
    "    \n",
    "    lightgbm::lgb.train(\n",
    "        list(), \n",
    "        data = lgb.data1,\n",
    "        valids = valids,\n",
    "        num_threads = 4, ## 请按实际需要的电脑线程数进行修改，默认值为CPU核数，非线程数（譬如本人电脑为两核四线程，则默认值为2）\n",
    "        verbose = 1,\n",
    "        record = TRUE,\n",
    "        #early_stopping_rounds = 10,\n",
    "        nrounds = 1, ## cross-validation,不进行交叉验证\n",
    "        ...\n",
    "    )\n",
    "}\n",
    "\n",
    "predictLearner.classif.lgb = function(.learner, .model, .newdata, ...) {\n",
    "    p = predict(.model$learner.model, data.matrix(.newdata), reshape = TRUE, ...)\n",
    "    colnames(p) <- 0:4\n",
    "    return(p)\n",
    "}\n",
    "\n",
    "registerS3method(\"makeRLearner\", \"classif.lgb\", makeRLearner.classif.lgb)\n",
    "registerS3method(\"trainLearner\", \"classif.lgb\", trainLearner.classif.lgb)\n",
    "registerS3method(\"predictLearner\", \"classif.lgb\", predictLearner.classif.lgb)\n"
   ]
  },
  {
   "cell_type": "markdown",
   "metadata": {},
   "source": [
    "#### 3.读取数据"
   ]
  },
  {
   "cell_type": "code",
   "execution_count": 3,
   "metadata": {},
   "outputs": [
    {
     "data": {
      "text/html": [
       "<table>\n",
       "<thead><tr><th></th><th scope=col>used</th><th scope=col>(Mb)</th><th scope=col>gc trigger</th><th scope=col>(Mb)</th><th scope=col>max used</th><th scope=col>(Mb)</th></tr></thead>\n",
       "<tbody>\n",
       "\t<tr><th scope=row>Ncells</th><td>1590652</td><td>85.0   </td><td>2637877</td><td>140.9  </td><td>2164898</td><td>115.7  </td></tr>\n",
       "\t<tr><th scope=row>Vcells</th><td>2305799</td><td>17.6   </td><td>3851194</td><td> 29.4  </td><td>3142118</td><td> 24.0  </td></tr>\n",
       "</tbody>\n",
       "</table>\n"
      ],
      "text/latex": [
       "\\begin{tabular}{r|llllll}\n",
       "  & used & (Mb) & gc trigger & (Mb) & max used & (Mb)\\\\\n",
       "\\hline\n",
       "\tNcells & 1590652 & 85.0    & 2637877 & 140.9   & 2164898 & 115.7  \\\\\n",
       "\tVcells & 2305799 & 17.6    & 3851194 &  29.4   & 3142118 &  24.0  \\\\\n",
       "\\end{tabular}\n"
      ],
      "text/markdown": [
       "\n",
       "| <!--/--> | used | (Mb) | gc trigger | (Mb) | max used | (Mb) | \n",
       "|---|---|\n",
       "| Ncells | 1590652 | 85.0    | 2637877 | 140.9   | 2164898 | 115.7   | \n",
       "| Vcells | 2305799 | 17.6    | 3851194 |  29.4   | 3142118 |  24.0   | \n",
       "\n",
       "\n"
      ],
      "text/plain": [
       "       used    (Mb) gc trigger (Mb)  max used (Mb) \n",
       "Ncells 1590652 85.0 2637877    140.9 2164898  115.7\n",
       "Vcells 2305799 17.6 3851194     29.4 3142118   24.0"
      ]
     },
     "metadata": {},
     "output_type": "display_data"
    }
   ],
   "source": [
    "train <- read.table(file = 'C:/Users/Administrator/LightGBM/examples/multiclass_classification/multiclass.train') \n",
    "set.seed(1)\n",
    "train_s <- sample(dim(train)[1], round(dim(train)[1] * .9, 0)) ## lightgbm自带训练数据随机分割为两部分（如果实际建模因变量类别不平衡，请修改为分层抽样）\n",
    "data_train <- train[train_s, ] ## 训练数据集\n",
    "data_validation <- train[-train_s, ]## 验证数据集\n",
    "rm(train) ## 删除，以减少内存\n",
    "gc()\n",
    "data_test <- read.table(file = 'C:/Users/Administrator/LightGBM/examples/multiclass_classification/multiclass.test') ## 测试数据集\n",
    "data_total <- rbind(data_train, data_validation) ## 上面封装函数中的“data_total”\n",
    "data_total$V1 <- as.factor(data_total$V1) ## 对于分类模型，MLR包要求因变量的数据类型为factor"
   ]
  },
  {
   "cell_type": "markdown",
   "metadata": {},
   "source": [
    "#### 4.构建任务\n",
    "MLR包可以把训练数据集与验证数据集一起放在任务中"
   ]
  },
  {
   "cell_type": "code",
   "execution_count": 4,
   "metadata": {
    "collapsed": true
   },
   "outputs": [],
   "source": [
    "lgb.task <- makeClassifTask(data = data_total, target = \"V1\") "
   ]
  },
  {
   "cell_type": "markdown",
   "metadata": {},
   "source": [
    "#### 5.设置需要调整的参数\n",
    "此处为示例，实际调参中需要调整lightgbm算法的很多参数"
   ]
  },
  {
   "cell_type": "code",
   "execution_count": 5,
   "metadata": {
    "collapsed": true
   },
   "outputs": [],
   "source": [
    "lgb.ps <- makeParamSet(\n",
    "    makeNumericParam(\"learning_rate\", lower = .1, upper = 1),\n",
    "    makeDiscreteParam(\"num_iterations\", values = 100), ##默认值为100\n",
    "    makeIntegerParam(\"num_leaves\", lower = 5, upper = 50)\n",
    ")"
   ]
  },
  {
   "cell_type": "markdown",
   "metadata": {},
   "source": [
    "#### 6.学习次数控制\n",
    "参数resolution = 10L意思是learning_rate为.1, .2, .3, ……, 1, 共10个"
   ]
  },
  {
   "cell_type": "code",
   "execution_count": 6,
   "metadata": {
    "collapsed": true
   },
   "outputs": [],
   "source": [
    "lgb.ctrl <- makeTuneControlGrid(resolution = 10L) ## 默认值为10"
   ]
  },
  {
   "cell_type": "markdown",
   "metadata": {},
   "source": [
    "#### 7.模型描述--重复抽样设置\n",
    "自动调参必须设置此参数（郁闷之处），其它重抽样方法可以查看函数makeResampleDesc的使用说明"
   ]
  },
  {
   "cell_type": "code",
   "execution_count": 7,
   "metadata": {
    "collapsed": true
   },
   "outputs": [],
   "source": [
    "lgb.rdesc <- makeResampleDesc(method = \"Bootstrap\", iters = 10, stratify = TRUE) \n",
    "## 重抽样10次"
   ]
  },
  {
   "cell_type": "markdown",
   "metadata": {},
   "source": [
    "#### 8.构建学习器"
   ]
  },
  {
   "cell_type": "code",
   "execution_count": 8,
   "metadata": {
    "collapsed": true
   },
   "outputs": [],
   "source": [
    "lrn.ps <- list(\n",
    "    objective = \"multiclass\",\n",
    "    metric = \"multi_logloss\",\n",
    "    num_class = 5, ##请根据实际情况进行调整\n",
    "    header = TRUE\n",
    ")\n",
    "lgb.lrn = makeLearner(\n",
    "    'classif.lgb', \n",
    "    predict.type = 'prob', ## 输出的为概率，不是分类结果，用来计算logloss\n",
    "    par.vals = lrn.ps\n",
    ")"
   ]
  },
  {
   "cell_type": "markdown",
   "metadata": {},
   "source": [
    "##### 9.调参"
   ]
  },
  {
   "cell_type": "code",
   "execution_count": 9,
   "metadata": {},
   "outputs": [
    {
     "name": "stderr",
     "output_type": "stream",
     "text": [
      "[Tune] Started tuning learner classif.lgb for parameter set:\n",
      "                   Type len Def   Constr Req Tunable Trafo\n",
      "learning_rate   numeric   -   - 0.1 to 1   -    TRUE     -\n",
      "num_iterations discrete   -   -      100   -    TRUE     -\n",
      "num_leaves      integer   -   -  5 to 50   -    TRUE     -\n",
      "With control class: TuneControlGrid\n",
      "Imputation value: Inf\n",
      "[Tune-x] 1: learning_rate=0.1; num_iterations=100; num_leaves=5\n"
     ]
    },
    {
     "name": "stdout",
     "output_type": "stream",
     "text": [
      "[1]:\ttest's multi_logloss:1.63238 \n",
      "[1]:\ttest's multi_logloss:1.62819 \n",
      "[1]:\ttest's multi_logloss:1.6301 \n",
      "[1]:\ttest's multi_logloss:1.62685 \n",
      "[1]:\ttest's multi_logloss:1.63074 \n",
      "[1]:\ttest's multi_logloss:1.63175 \n",
      "[1]:\ttest's multi_logloss:1.63043 \n",
      "[1]:\ttest's multi_logloss:1.63004 \n",
      "[1]:\ttest's multi_logloss:1.63099 \n",
      "[1]:\ttest's multi_logloss:1.63019 \n"
     ]
    },
    {
     "name": "stderr",
     "output_type": "stream",
     "text": [
      "[Tune-y] 1: logloss.test.mean=1.61; time: 0.0 min; memory: 116Mb use, 172Mb max\n",
      "[Tune-x] 2: learning_rate=0.2; num_iterations=100; num_leaves=5\n"
     ]
    },
    {
     "name": "stdout",
     "output_type": "stream",
     "text": [
      "[1]:\ttest's multi_logloss:1.65609 \n",
      "[1]:\ttest's multi_logloss:1.64774 \n",
      "[1]:\ttest's multi_logloss:1.6515 \n",
      "[1]:\ttest's multi_logloss:1.64502 \n",
      "[1]:\ttest's multi_logloss:1.65278 \n",
      "[1]:\ttest's multi_logloss:1.65495 \n",
      "[1]:\ttest's multi_logloss:1.65209 \n",
      "[1]:\ttest's multi_logloss:1.6514 \n",
      "[1]:\ttest's multi_logloss:1.65336 \n",
      "[1]:\ttest's multi_logloss:1.65171 \n"
     ]
    },
    {
     "name": "stderr",
     "output_type": "stream",
     "text": [
      "[Tune-y] 2: logloss.test.mean= 1.6; time: 0.0 min; memory: 114Mb use, 172Mb max\n",
      "[Tune-x] 3: learning_rate=0.3; num_iterations=100; num_leaves=5\n"
     ]
    },
    {
     "name": "stdout",
     "output_type": "stream",
     "text": [
      "[1]:\ttest's multi_logloss:1.6806 \n",
      "[1]:\ttest's multi_logloss:1.66812 \n",
      "[1]:\ttest's multi_logloss:1.67366 \n",
      "[1]:\ttest's multi_logloss:1.66398 \n",
      "[1]:\ttest's multi_logloss:1.6756 \n",
      "[1]:\ttest's multi_logloss:1.67906 \n",
      "[1]:\ttest's multi_logloss:1.67442 \n",
      "[1]:\ttest's multi_logloss:1.67352 \n",
      "[1]:\ttest's multi_logloss:1.67658 \n",
      "[1]:\ttest's multi_logloss:1.67399 \n"
     ]
    },
    {
     "name": "stderr",
     "output_type": "stream",
     "text": [
      "[Tune-y] 3: logloss.test.mean= 1.6; time: 0.0 min; memory: 116Mb use, 172Mb max\n",
      "[Tune-x] 4: learning_rate=0.4; num_iterations=100; num_leaves=5\n"
     ]
    },
    {
     "name": "stdout",
     "output_type": "stream",
     "text": [
      "[1]:\ttest's multi_logloss:1.70592 \n",
      "[1]:\ttest's multi_logloss:1.68934 \n",
      "[1]:\ttest's multi_logloss:1.69657 \n",
      "[1]:\ttest's multi_logloss:1.68373 \n",
      "[1]:\ttest's multi_logloss:1.69919 \n",
      "[1]:\ttest's multi_logloss:1.70409 \n",
      "[1]:\ttest's multi_logloss:1.69744 \n",
      "[1]:\ttest's multi_logloss:1.69641 \n",
      "[1]:\ttest's multi_logloss:1.70065 \n",
      "[1]:\ttest's multi_logloss:1.69705 \n"
     ]
    },
    {
     "name": "stderr",
     "output_type": "stream",
     "text": [
      "[Tune-y] 4: logloss.test.mean= 1.6; time: 0.0 min; memory: 114Mb use, 172Mb max\n",
      "[Tune-x] 5: learning_rate=0.5; num_iterations=100; num_leaves=5\n"
     ]
    },
    {
     "name": "stdout",
     "output_type": "stream",
     "text": [
      "[1]:\ttest's multi_logloss:1.73205 \n",
      "[1]:\ttest's multi_logloss:1.71142 \n",
      "[1]:\ttest's multi_logloss:1.72024 \n",
      "[1]:\ttest's multi_logloss:1.70429 \n",
      "[1]:\ttest's multi_logloss:1.72359 \n",
      "[1]:\ttest's multi_logloss:1.73006 \n",
      "[1]:\ttest's multi_logloss:1.72115 \n",
      "[1]:\ttest's multi_logloss:1.72008 \n",
      "[1]:\ttest's multi_logloss:1.72558 \n",
      "[1]:\ttest's multi_logloss:1.7209 \n"
     ]
    },
    {
     "name": "stderr",
     "output_type": "stream",
     "text": [
      "[Tune-y] 5: logloss.test.mean= 1.6; time: 0.0 min; memory: 114Mb use, 174Mb max\n",
      "[Tune-x] 6: learning_rate=0.6; num_iterations=100; num_leaves=5\n"
     ]
    },
    {
     "name": "stdout",
     "output_type": "stream",
     "text": [
      "[1]:\ttest's multi_logloss:1.75903 \n",
      "[1]:\ttest's multi_logloss:1.73437 \n",
      "[1]:\ttest's multi_logloss:1.74469 \n",
      "[1]:\ttest's multi_logloss:1.72567 \n",
      "[1]:\ttest's multi_logloss:1.74879 \n",
      "[1]:\ttest's multi_logloss:1.75696 \n",
      "[1]:\ttest's multi_logloss:1.74556 \n",
      "[1]:\ttest's multi_logloss:1.74454 \n",
      "[1]:\ttest's multi_logloss:1.75138 \n",
      "[1]:\ttest's multi_logloss:1.74553 \n"
     ]
    },
    {
     "name": "stderr",
     "output_type": "stream",
     "text": [
      "[Tune-y] 6: logloss.test.mean= 1.6; time: 0.0 min; memory: 114Mb use, 181Mb max\n",
      "[Tune-x] 7: learning_rate=0.7; num_iterations=100; num_leaves=5\n"
     ]
    },
    {
     "name": "stdout",
     "output_type": "stream",
     "text": [
      "[1]:\ttest's multi_logloss:1.78684 \n",
      "[1]:\ttest's multi_logloss:1.75819 \n",
      "[1]:\ttest's multi_logloss:1.76991 \n",
      "[1]:\ttest's multi_logloss:1.74788 \n",
      "[1]:\ttest's multi_logloss:1.77481 \n",
      "[1]:\ttest's multi_logloss:1.78482 \n",
      "[1]:\ttest's multi_logloss:1.77067 \n",
      "[1]:\ttest's multi_logloss:1.76979 \n",
      "[1]:\ttest's multi_logloss:1.77804 \n",
      "[1]:\ttest's multi_logloss:1.77093 \n"
     ]
    },
    {
     "name": "stderr",
     "output_type": "stream",
     "text": [
      "[Tune-y] 7: logloss.test.mean= 1.6; time: 0.0 min; memory: 114Mb use, 181Mb max\n",
      "[Tune-x] 8: learning_rate=0.8; num_iterations=100; num_leaves=5\n"
     ]
    },
    {
     "name": "stdout",
     "output_type": "stream",
     "text": [
      "[1]:\ttest's multi_logloss:1.8155 \n",
      "[1]:\ttest's multi_logloss:1.78289 \n",
      "[1]:\ttest's multi_logloss:1.7959 \n",
      "[1]:\ttest's multi_logloss:1.77092 \n",
      "[1]:\ttest's multi_logloss:1.80164 \n",
      "[1]:\ttest's multi_logloss:1.81363 \n",
      "[1]:\ttest's multi_logloss:1.79649 \n",
      "[1]:\ttest's multi_logloss:1.79584 \n",
      "[1]:\ttest's multi_logloss:1.80559 \n",
      "[1]:\ttest's multi_logloss:1.79712 \n"
     ]
    },
    {
     "name": "stderr",
     "output_type": "stream",
     "text": [
      "[Tune-y] 8: logloss.test.mean= 1.6; time: 0.0 min; memory: 114Mb use, 181Mb max\n",
      "[Tune-x] 9: learning_rate=0.9; num_iterations=100; num_leaves=5\n"
     ]
    },
    {
     "name": "stdout",
     "output_type": "stream",
     "text": [
      "[1]:\ttest's multi_logloss:1.845 \n",
      "[1]:\ttest's multi_logloss:1.80846 \n",
      "[1]:\ttest's multi_logloss:1.82267 \n",
      "[1]:\ttest's multi_logloss:1.7948 \n",
      "[1]:\ttest's multi_logloss:1.82928 \n",
      "[1]:\ttest's multi_logloss:1.84339 \n",
      "[1]:\ttest's multi_logloss:1.82302 \n",
      "[1]:\ttest's multi_logloss:1.82269 \n",
      "[1]:\ttest's multi_logloss:1.834 \n",
      "[1]:\ttest's multi_logloss:1.82408 \n"
     ]
    },
    {
     "name": "stderr",
     "output_type": "stream",
     "text": [
      "[Tune-y] 9: logloss.test.mean= 1.6; time: 0.0 min; memory: 119Mb use, 181Mb max\n",
      "[Tune-x] 10: learning_rate=1; num_iterations=100; num_leaves=5\n"
     ]
    },
    {
     "name": "stdout",
     "output_type": "stream",
     "text": [
      "[1]:\ttest's multi_logloss:1.87536 \n",
      "[1]:\ttest's multi_logloss:1.83489 \n",
      "[1]:\ttest's multi_logloss:1.85021 \n",
      "[1]:\ttest's multi_logloss:1.81951 \n",
      "[1]:\ttest's multi_logloss:1.85772 \n",
      "[1]:\ttest's multi_logloss:1.87411 \n",
      "[1]:\ttest's multi_logloss:1.85025 \n",
      "[1]:\ttest's multi_logloss:1.85032 \n",
      "[1]:\ttest's multi_logloss:1.86328 \n",
      "[1]:\ttest's multi_logloss:1.85179 \n"
     ]
    },
    {
     "name": "stderr",
     "output_type": "stream",
     "text": [
      "[Tune-y] 10: logloss.test.mean=1.61; time: 0.0 min; memory: 114Mb use, 181Mb max\n",
      "[Tune-x] 11: learning_rate=0.1; num_iterations=100; num_leaves=10\n"
     ]
    },
    {
     "name": "stdout",
     "output_type": "stream",
     "text": [
      "[1]:\ttest's multi_logloss:1.62689 \n",
      "[1]:\ttest's multi_logloss:1.62128 \n",
      "[1]:\ttest's multi_logloss:1.62444 \n",
      "[1]:\ttest's multi_logloss:1.61973 \n",
      "[1]:\ttest's multi_logloss:1.62509 \n",
      "[1]:\ttest's multi_logloss:1.6241 \n",
      "[1]:\ttest's multi_logloss:1.62421 \n",
      "[1]:\ttest's multi_logloss:1.6219 \n",
      "[1]:\ttest's multi_logloss:1.62582 \n",
      "[1]:\ttest's multi_logloss:1.62468 \n"
     ]
    },
    {
     "name": "stderr",
     "output_type": "stream",
     "text": [
      "[Tune-y] 11: logloss.test.mean= 1.6; time: 0.0 min; memory: 114Mb use, 181Mb max\n",
      "[Tune-x] 12: learning_rate=0.2; num_iterations=100; num_leaves=10\n"
     ]
    },
    {
     "name": "stdout",
     "output_type": "stream",
     "text": [
      "[1]:\ttest's multi_logloss:1.64553 \n",
      "[1]:\ttest's multi_logloss:1.63442 \n",
      "[1]:\ttest's multi_logloss:1.64074 \n",
      "[1]:\ttest's multi_logloss:1.6314 \n",
      "[1]:\ttest's multi_logloss:1.64194 \n",
      "[1]:\ttest's multi_logloss:1.64007 \n",
      "[1]:\ttest's multi_logloss:1.64017 \n",
      "[1]:\ttest's multi_logloss:1.63561 \n",
      "[1]:\ttest's multi_logloss:1.64355 \n",
      "[1]:\ttest's multi_logloss:1.64123 \n"
     ]
    },
    {
     "name": "stderr",
     "output_type": "stream",
     "text": [
      "[Tune-y] 12: logloss.test.mean= 1.6; time: 0.0 min; memory: 114Mb use, 181Mb max\n",
      "[Tune-x] 13: learning_rate=0.3; num_iterations=100; num_leaves=10\n"
     ]
    },
    {
     "name": "stdout",
     "output_type": "stream",
     "text": [
      "[1]:\ttest's multi_logloss:1.6654 \n",
      "[1]:\ttest's multi_logloss:1.6489 \n",
      "[1]:\ttest's multi_logloss:1.65838 \n",
      "[1]:\ttest's multi_logloss:1.6445 \n",
      "[1]:\ttest's multi_logloss:1.66002 \n",
      "[1]:\ttest's multi_logloss:1.65738 \n",
      "[1]:\ttest's multi_logloss:1.65736 \n",
      "[1]:\ttest's multi_logloss:1.6506 \n",
      "[1]:\ttest's multi_logloss:1.66268 \n",
      "[1]:\ttest's multi_logloss:1.65915 \n"
     ]
    },
    {
     "name": "stderr",
     "output_type": "stream",
     "text": [
      "[Tune-y] 13: logloss.test.mean= 1.6; time: 0.0 min; memory: 119Mb use, 181Mb max\n",
      "[Tune-x] 14: learning_rate=0.4; num_iterations=100; num_leaves=10\n"
     ]
    },
    {
     "name": "stdout",
     "output_type": "stream",
     "text": [
      "[1]:\ttest's multi_logloss:1.68653 \n",
      "[1]:\ttest's multi_logloss:1.66476 \n",
      "[1]:\ttest's multi_logloss:1.6774 \n",
      "[1]:\ttest's multi_logloss:1.65908 \n",
      "[1]:\ttest's multi_logloss:1.67938 \n",
      "[1]:\ttest's multi_logloss:1.67605 \n",
      "[1]:\ttest's multi_logloss:1.67584 \n",
      "[1]:\ttest's multi_logloss:1.66689 \n",
      "[1]:\ttest's multi_logloss:1.68325 \n",
      "[1]:\ttest's multi_logloss:1.67848 \n"
     ]
    },
    {
     "name": "stderr",
     "output_type": "stream",
     "text": [
      "[Tune-y] 14: logloss.test.mean=1.59; time: 0.0 min; memory: 114Mb use, 181Mb max\n",
      "[Tune-x] 15: learning_rate=0.5; num_iterations=100; num_leaves=10\n"
     ]
    },
    {
     "name": "stdout",
     "output_type": "stream",
     "text": [
      "[1]:\ttest's multi_logloss:1.70895 \n",
      "[1]:\ttest's multi_logloss:1.68203 \n",
      "[1]:\ttest's multi_logloss:1.69782 \n",
      "[1]:\ttest's multi_logloss:1.67518 \n",
      "[1]:\ttest's multi_logloss:1.70005 \n",
      "[1]:\ttest's multi_logloss:1.69612 \n",
      "[1]:\ttest's multi_logloss:1.69564 \n",
      "[1]:\ttest's multi_logloss:1.68452 \n",
      "[1]:\ttest's multi_logloss:1.70529 \n",
      "[1]:\ttest's multi_logloss:1.69923 \n"
     ]
    },
    {
     "name": "stderr",
     "output_type": "stream",
     "text": [
      "[Tune-y] 15: logloss.test.mean=1.59; time: 0.0 min; memory: 114Mb use, 181Mb max\n",
      "[Tune-x] 16: learning_rate=0.6; num_iterations=100; num_leaves=10\n"
     ]
    },
    {
     "name": "stdout",
     "output_type": "stream",
     "text": [
      "[1]:\ttest's multi_logloss:1.73268 \n",
      "[1]:\ttest's multi_logloss:1.70071 \n",
      "[1]:\ttest's multi_logloss:1.71969 \n",
      "[1]:\ttest's multi_logloss:1.69283 \n",
      "[1]:\ttest's multi_logloss:1.72207 \n",
      "[1]:\ttest's multi_logloss:1.71758 \n",
      "[1]:\ttest's multi_logloss:1.71679 \n",
      "[1]:\ttest's multi_logloss:1.70351 \n",
      "[1]:\ttest's multi_logloss:1.72883 \n",
      "[1]:\ttest's multi_logloss:1.72145 \n"
     ]
    },
    {
     "name": "stderr",
     "output_type": "stream",
     "text": [
      "[Tune-y] 16: logloss.test.mean=1.59; time: 0.0 min; memory: 114Mb use, 181Mb max\n",
      "[Tune-x] 17: learning_rate=0.7; num_iterations=100; num_leaves=10\n"
     ]
    },
    {
     "name": "stdout",
     "output_type": "stream",
     "text": [
      "[1]:\ttest's multi_logloss:1.75775 \n",
      "[1]:\ttest's multi_logloss:1.72083 \n",
      "[1]:\ttest's multi_logloss:1.74302 \n",
      "[1]:\ttest's multi_logloss:1.71205 \n",
      "[1]:\ttest's multi_logloss:1.74544 \n",
      "[1]:\ttest's multi_logloss:1.74046 \n",
      "[1]:\ttest's multi_logloss:1.73931 \n",
      "[1]:\ttest's multi_logloss:1.72387 \n",
      "[1]:\ttest's multi_logloss:1.75389 \n",
      "[1]:\ttest's multi_logloss:1.74512 \n"
     ]
    },
    {
     "name": "stderr",
     "output_type": "stream",
     "text": [
      "[Tune-y] 17: logloss.test.mean=1.59; time: 0.0 min; memory: 119Mb use, 181Mb max\n",
      "[Tune-x] 18: learning_rate=0.8; num_iterations=100; num_leaves=10\n"
     ]
    },
    {
     "name": "stdout",
     "output_type": "stream",
     "text": [
      "[1]:\ttest's multi_logloss:1.78417 \n",
      "[1]:\ttest's multi_logloss:1.74239 \n",
      "[1]:\ttest's multi_logloss:1.76781 \n",
      "[1]:\ttest's multi_logloss:1.73285 \n",
      "[1]:\ttest's multi_logloss:1.77018 \n",
      "[1]:\ttest's multi_logloss:1.76476 \n",
      "[1]:\ttest's multi_logloss:1.76323 \n",
      "[1]:\ttest's multi_logloss:1.74562 \n",
      "[1]:\ttest's multi_logloss:1.78047 \n",
      "[1]:\ttest's multi_logloss:1.77026 \n"
     ]
    },
    {
     "name": "stderr",
     "output_type": "stream",
     "text": [
      "[Tune-y] 18: logloss.test.mean=1.59; time: 0.0 min; memory: 114Mb use, 181Mb max\n",
      "[Tune-x] 19: learning_rate=0.9; num_iterations=100; num_leaves=10\n"
     ]
    },
    {
     "name": "stdout",
     "output_type": "stream",
     "text": [
      "[1]:\ttest's multi_logloss:1.81193 \n",
      "[1]:\ttest's multi_logloss:1.76537 \n",
      "[1]:\ttest's multi_logloss:1.79408 \n",
      "[1]:\ttest's multi_logloss:1.75523 \n",
      "[1]:\ttest's multi_logloss:1.79628 \n",
      "[1]:\ttest's multi_logloss:1.79048 \n",
      "[1]:\ttest's multi_logloss:1.78853 \n",
      "[1]:\ttest's multi_logloss:1.76875 \n",
      "[1]:\ttest's multi_logloss:1.80858 \n",
      "[1]:\ttest's multi_logloss:1.79686 \n"
     ]
    },
    {
     "name": "stderr",
     "output_type": "stream",
     "text": [
      "[Tune-y] 19: logloss.test.mean= 1.6; time: 0.0 min; memory: 114Mb use, 181Mb max\n",
      "[Tune-x] 20: learning_rate=1; num_iterations=100; num_leaves=10\n"
     ]
    },
    {
     "name": "stdout",
     "output_type": "stream",
     "text": [
      "[1]:\ttest's multi_logloss:1.84105 \n",
      "[1]:\ttest's multi_logloss:1.78976 \n",
      "[1]:\ttest's multi_logloss:1.82181 \n",
      "[1]:\ttest's multi_logloss:1.77917 \n",
      "[1]:\ttest's multi_logloss:1.82373 \n",
      "[1]:\ttest's multi_logloss:1.81762 \n",
      "[1]:\ttest's multi_logloss:1.81522 \n",
      "[1]:\ttest's multi_logloss:1.79326 \n",
      "[1]:\ttest's multi_logloss:1.8382 \n",
      "[1]:\ttest's multi_logloss:1.82489 \n"
     ]
    },
    {
     "name": "stderr",
     "output_type": "stream",
     "text": [
      "[Tune-y] 20: logloss.test.mean= 1.6; time: 0.0 min; memory: 114Mb use, 181Mb max\n",
      "[Tune-x] 21: learning_rate=0.1; num_iterations=100; num_leaves=15\n"
     ]
    },
    {
     "name": "stdout",
     "output_type": "stream",
     "text": [
      "[1]:\ttest's multi_logloss:1.62257 \n",
      "[1]:\ttest's multi_logloss:1.61649 \n",
      "[1]:\ttest's multi_logloss:1.6189 \n",
      "[1]:\ttest's multi_logloss:1.61405 \n",
      "[1]:\ttest's multi_logloss:1.62042 \n",
      "[1]:\ttest's multi_logloss:1.6188 \n",
      "[1]:\ttest's multi_logloss:1.61811 \n",
      "[1]:\ttest's multi_logloss:1.61707 \n",
      "[1]:\ttest's multi_logloss:1.62111 \n",
      "[1]:\ttest's multi_logloss:1.61845 \n"
     ]
    },
    {
     "name": "stderr",
     "output_type": "stream",
     "text": [
      "[Tune-y] 21: logloss.test.mean= 1.6; time: 0.0 min; memory: 119Mb use, 181Mb max\n",
      "[Tune-x] 22: learning_rate=0.2; num_iterations=100; num_leaves=15\n"
     ]
    },
    {
     "name": "stdout",
     "output_type": "stream",
     "text": [
      "[1]:\ttest's multi_logloss:1.63726 \n",
      "[1]:\ttest's multi_logloss:1.62524 \n",
      "[1]:\ttest's multi_logloss:1.63008 \n",
      "[1]:\ttest's multi_logloss:1.62043 \n",
      "[1]:\ttest's multi_logloss:1.63301 \n",
      "[1]:\ttest's multi_logloss:1.62997 \n",
      "[1]:\ttest's multi_logloss:1.62843 \n",
      "[1]:\ttest's multi_logloss:1.62636 \n",
      "[1]:\ttest's multi_logloss:1.63461 \n",
      "[1]:\ttest's multi_logloss:1.62899 \n"
     ]
    },
    {
     "name": "stderr",
     "output_type": "stream",
     "text": [
      "[Tune-y] 22: logloss.test.mean= 1.6; time: 0.0 min; memory: 114Mb use, 181Mb max\n",
      "[Tune-x] 23: learning_rate=0.3; num_iterations=100; num_leaves=15\n"
     ]
    },
    {
     "name": "stdout",
     "output_type": "stream",
     "text": [
      "[1]:\ttest's multi_logloss:1.65357 \n",
      "[1]:\ttest's multi_logloss:1.63577 \n",
      "[1]:\ttest's multi_logloss:1.64304 \n",
      "[1]:\ttest's multi_logloss:1.62864 \n",
      "[1]:\ttest's multi_logloss:1.64728 \n",
      "[1]:\ttest's multi_logloss:1.64303 \n",
      "[1]:\ttest's multi_logloss:1.64049 \n",
      "[1]:\ttest's multi_logloss:1.63736 \n",
      "[1]:\ttest's multi_logloss:1.65002 \n",
      "[1]:\ttest's multi_logloss:1.64113 \n"
     ]
    },
    {
     "name": "stderr",
     "output_type": "stream",
     "text": [
      "[Tune-y] 23: logloss.test.mean=1.59; time: 0.0 min; memory: 114Mb use, 181Mb max\n",
      "[Tune-x] 24: learning_rate=0.4; num_iterations=100; num_leaves=15\n"
     ]
    },
    {
     "name": "stdout",
     "output_type": "stream",
     "text": [
      "[1]:\ttest's multi_logloss:1.67155 \n",
      "[1]:\ttest's multi_logloss:1.64814 \n",
      "[1]:\ttest's multi_logloss:1.65786 \n",
      "[1]:\ttest's multi_logloss:1.63875 \n",
      "[1]:\ttest's multi_logloss:1.66329 \n",
      "[1]:\ttest's multi_logloss:1.65807 \n",
      "[1]:\ttest's multi_logloss:1.65437 \n",
      "[1]:\ttest's multi_logloss:1.65013 \n",
      "[1]:\ttest's multi_logloss:1.66741 \n",
      "[1]:\ttest's multi_logloss:1.65492 \n"
     ]
    },
    {
     "name": "stderr",
     "output_type": "stream",
     "text": [
      "[Tune-y] 24: logloss.test.mean=1.59; time: 0.0 min; memory: 114Mb use, 181Mb max\n",
      "[Tune-x] 25: learning_rate=0.5; num_iterations=100; num_leaves=15\n"
     ]
    },
    {
     "name": "stdout",
     "output_type": "stream",
     "text": [
      "[1]:\ttest's multi_logloss:1.69126 \n",
      "[1]:\ttest's multi_logloss:1.66239 \n",
      "[1]:\ttest's multi_logloss:1.6746 \n",
      "[1]:\ttest's multi_logloss:1.65083 \n",
      "[1]:\ttest's multi_logloss:1.6811 \n",
      "[1]:\ttest's multi_logloss:1.67514 \n",
      "[1]:\ttest's multi_logloss:1.67014 \n",
      "[1]:\ttest's multi_logloss:1.66473 \n",
      "[1]:\ttest's multi_logloss:1.68685 \n",
      "[1]:\ttest's multi_logloss:1.6704 \n"
     ]
    },
    {
     "name": "stderr",
     "output_type": "stream",
     "text": [
      "[Tune-y] 25: logloss.test.mean=1.59; time: 0.0 min; memory: 119Mb use, 181Mb max\n",
      "[Tune-x] 26: learning_rate=0.6; num_iterations=100; num_leaves=15\n"
     ]
    },
    {
     "name": "stdout",
     "output_type": "stream",
     "text": [
      "[1]:\ttest's multi_logloss:1.71273 \n",
      "[1]:\ttest's multi_logloss:1.67857 \n",
      "[1]:\ttest's multi_logloss:1.6933 \n",
      "[1]:\ttest's multi_logloss:1.6649 \n",
      "[1]:\ttest's multi_logloss:1.70075 \n",
      "[1]:\ttest's multi_logloss:1.69429 \n",
      "[1]:\ttest's multi_logloss:1.68786 \n",
      "[1]:\ttest's multi_logloss:1.68119 \n",
      "[1]:\ttest's multi_logloss:1.70838 \n",
      "[1]:\ttest's multi_logloss:1.6876 \n"
     ]
    },
    {
     "name": "stderr",
     "output_type": "stream",
     "text": [
      "[Tune-y] 26: logloss.test.mean=1.59; time: 0.0 min; memory: 114Mb use, 181Mb max\n",
      "[Tune-x] 27: learning_rate=0.7; num_iterations=100; num_leaves=15\n"
     ]
    },
    {
     "name": "stdout",
     "output_type": "stream",
     "text": [
      "[1]:\ttest's multi_logloss:1.73598 \n",
      "[1]:\ttest's multi_logloss:1.69669 \n",
      "[1]:\ttest's multi_logloss:1.71398 \n",
      "[1]:\ttest's multi_logloss:1.68099 \n",
      "[1]:\ttest's multi_logloss:1.72226 \n",
      "[1]:\ttest's multi_logloss:1.71557 \n",
      "[1]:\ttest's multi_logloss:1.70755 \n",
      "[1]:\ttest's multi_logloss:1.69954 \n",
      "[1]:\ttest's multi_logloss:1.73203 \n",
      "[1]:\ttest's multi_logloss:1.70653 \n"
     ]
    },
    {
     "name": "stderr",
     "output_type": "stream",
     "text": [
      "[Tune-y] 27: logloss.test.mean=1.59; time: 0.0 min; memory: 114Mb use, 181Mb max\n",
      "[Tune-x] 28: learning_rate=0.8; num_iterations=100; num_leaves=15\n"
     ]
    },
    {
     "name": "stdout",
     "output_type": "stream",
     "text": [
      "[1]:\ttest's multi_logloss:1.76103 \n",
      "[1]:\ttest's multi_logloss:1.71676 \n",
      "[1]:\ttest's multi_logloss:1.73668 \n",
      "[1]:\ttest's multi_logloss:1.69911 \n",
      "[1]:\ttest's multi_logloss:1.74563 \n",
      "[1]:\ttest's multi_logloss:1.73897 \n",
      "[1]:\ttest's multi_logloss:1.72925 \n",
      "[1]:\ttest's multi_logloss:1.71979 \n",
      "[1]:\ttest's multi_logloss:1.7578 \n",
      "[1]:\ttest's multi_logloss:1.72721 \n"
     ]
    },
    {
     "name": "stderr",
     "output_type": "stream",
     "text": [
      "[Tune-y] 28: logloss.test.mean=1.59; time: 0.0 min; memory: 114Mb use, 181Mb max\n",
      "[Tune-x] 29: learning_rate=0.9; num_iterations=100; num_leaves=15\n"
     ]
    },
    {
     "name": "stdout",
     "output_type": "stream",
     "text": [
      "[1]:\ttest's multi_logloss:1.78787 \n",
      "[1]:\ttest's multi_logloss:1.73877 \n",
      "[1]:\ttest's multi_logloss:1.76137 \n",
      "[1]:\ttest's multi_logloss:1.71924 \n",
      "[1]:\ttest's multi_logloss:1.77086 \n",
      "[1]:\ttest's multi_logloss:1.7645 \n",
      "[1]:\ttest's multi_logloss:1.75295 \n",
      "[1]:\ttest's multi_logloss:1.74194 \n",
      "[1]:\ttest's multi_logloss:1.7857 \n",
      "[1]:\ttest's multi_logloss:1.7496 \n"
     ]
    },
    {
     "name": "stderr",
     "output_type": "stream",
     "text": [
      "[Tune-y] 29: logloss.test.mean= 1.6; time: 0.0 min; memory: 119Mb use, 181Mb max\n",
      "[Tune-x] 30: learning_rate=1; num_iterations=100; num_leaves=15\n"
     ]
    },
    {
     "name": "stdout",
     "output_type": "stream",
     "text": [
      "[1]:\ttest's multi_logloss:1.81649 \n",
      "[1]:\ttest's multi_logloss:1.7627 \n",
      "[1]:\ttest's multi_logloss:1.78805 \n",
      "[1]:\ttest's multi_logloss:1.74136 \n",
      "[1]:\ttest's multi_logloss:1.79792 \n",
      "[1]:\ttest's multi_logloss:1.79213 \n",
      "[1]:\ttest's multi_logloss:1.77864 \n",
      "[1]:\ttest's multi_logloss:1.76597 \n",
      "[1]:\ttest's multi_logloss:1.81569 \n",
      "[1]:\ttest's multi_logloss:1.77369 \n"
     ]
    },
    {
     "name": "stderr",
     "output_type": "stream",
     "text": [
      "[Tune-y] 30: logloss.test.mean= 1.6; time: 0.0 min; memory: 114Mb use, 181Mb max\n",
      "[Tune-x] 31: learning_rate=0.1; num_iterations=100; num_leaves=20\n"
     ]
    },
    {
     "name": "stdout",
     "output_type": "stream",
     "text": [
      "[1]:\ttest's multi_logloss:1.61964 \n",
      "[1]:\ttest's multi_logloss:1.61243 \n",
      "[1]:\ttest's multi_logloss:1.61545 \n",
      "[1]:\ttest's multi_logloss:1.60976 \n",
      "[1]:\ttest's multi_logloss:1.61677 \n",
      "[1]:\ttest's multi_logloss:1.61218 \n",
      "[1]:\ttest's multi_logloss:1.6148 \n",
      "[1]:\ttest's multi_logloss:1.61393 \n",
      "[1]:\ttest's multi_logloss:1.61628 \n",
      "[1]:\ttest's multi_logloss:1.61267 \n"
     ]
    },
    {
     "name": "stderr",
     "output_type": "stream",
     "text": [
      "[Tune-y] 31: logloss.test.mean= 1.6; time: 0.0 min; memory: 114Mb use, 181Mb max\n",
      "[Tune-x] 32: learning_rate=0.2; num_iterations=100; num_leaves=20\n"
     ]
    },
    {
     "name": "stdout",
     "output_type": "stream",
     "text": [
      "[1]:\ttest's multi_logloss:1.63167 \n",
      "[1]:\ttest's multi_logloss:1.61748 \n",
      "[1]:\ttest's multi_logloss:1.62349 \n",
      "[1]:\ttest's multi_logloss:1.61217 \n",
      "[1]:\ttest's multi_logloss:1.62601 \n",
      "[1]:\ttest's multi_logloss:1.61688 \n",
      "[1]:\ttest's multi_logloss:1.62211 \n",
      "[1]:\ttest's multi_logloss:1.6204 \n",
      "[1]:\ttest's multi_logloss:1.62519 \n",
      "[1]:\ttest's multi_logloss:1.61775 \n"
     ]
    },
    {
     "name": "stderr",
     "output_type": "stream",
     "text": [
      "[Tune-y] 32: logloss.test.mean=1.59; time: 0.0 min; memory: 114Mb use, 181Mb max\n",
      "[Tune-x] 33: learning_rate=0.3; num_iterations=100; num_leaves=20\n"
     ]
    },
    {
     "name": "stdout",
     "output_type": "stream",
     "text": [
      "[1]:\ttest's multi_logloss:1.6456 \n",
      "[1]:\ttest's multi_logloss:1.62468 \n",
      "[1]:\ttest's multi_logloss:1.63367 \n",
      "[1]:\ttest's multi_logloss:1.61678 \n",
      "[1]:\ttest's multi_logloss:1.63726 \n",
      "[1]:\ttest's multi_logloss:1.62364 \n",
      "[1]:\ttest's multi_logloss:1.63148 \n",
      "[1]:\ttest's multi_logloss:1.62896 \n",
      "[1]:\ttest's multi_logloss:1.63625 \n",
      "[1]:\ttest's multi_logloss:1.62479 \n"
     ]
    },
    {
     "name": "stderr",
     "output_type": "stream",
     "text": [
      "[Tune-y] 33: logloss.test.mean=1.59; time: 0.0 min; memory: 119Mb use, 181Mb max\n",
      "[Tune-x] 34: learning_rate=0.4; num_iterations=100; num_leaves=20\n"
     ]
    },
    {
     "name": "stdout",
     "output_type": "stream",
     "text": [
      "[1]:\ttest's multi_logloss:1.66149 \n",
      "[1]:\ttest's multi_logloss:1.63412 \n",
      "[1]:\ttest's multi_logloss:1.64607 \n",
      "[1]:\ttest's multi_logloss:1.62368 \n",
      "[1]:\ttest's multi_logloss:1.65059 \n",
      "[1]:\ttest's multi_logloss:1.63255 \n",
      "[1]:\ttest's multi_logloss:1.643 \n",
      "[1]:\ttest's multi_logloss:1.63968 \n",
      "[1]:\ttest's multi_logloss:1.64954 \n",
      "[1]:\ttest's multi_logloss:1.63388 \n"
     ]
    },
    {
     "name": "stderr",
     "output_type": "stream",
     "text": [
      "[Tune-y] 34: logloss.test.mean=1.58; time: 0.0 min; memory: 114Mb use, 181Mb max\n",
      "[Tune-x] 35: learning_rate=0.5; num_iterations=100; num_leaves=20\n"
     ]
    },
    {
     "name": "stdout",
     "output_type": "stream",
     "text": [
      "[1]:\ttest's multi_logloss:1.67938 \n",
      "[1]:\ttest's multi_logloss:1.64585 \n",
      "[1]:\ttest's multi_logloss:1.66077 \n",
      "[1]:\ttest's multi_logloss:1.63294 \n",
      "[1]:\ttest's multi_logloss:1.66606 \n",
      "[1]:\ttest's multi_logloss:1.64367 \n",
      "[1]:\ttest's multi_logloss:1.65677 \n",
      "[1]:\ttest's multi_logloss:1.65263 \n",
      "[1]:\ttest's multi_logloss:1.66514 \n",
      "[1]:\ttest's multi_logloss:1.64508 \n"
     ]
    },
    {
     "name": "stderr",
     "output_type": "stream",
     "text": [
      "[Tune-y] 35: logloss.test.mean=1.58; time: 0.0 min; memory: 114Mb use, 181Mb max\n",
      "[Tune-x] 36: learning_rate=0.6; num_iterations=100; num_leaves=20\n"
     ]
    },
    {
     "name": "stdout",
     "output_type": "stream",
     "text": [
      "[1]:\ttest's multi_logloss:1.69932 \n",
      "[1]:\ttest's multi_logloss:1.65994 \n",
      "[1]:\ttest's multi_logloss:1.67781 \n",
      "[1]:\ttest's multi_logloss:1.64463 \n",
      "[1]:\ttest's multi_logloss:1.68372 \n",
      "[1]:\ttest's multi_logloss:1.65706 \n",
      "[1]:\ttest's multi_logloss:1.67285 \n",
      "[1]:\ttest's multi_logloss:1.66787 \n",
      "[1]:\ttest's multi_logloss:1.6831 \n",
      "[1]:\ttest's multi_logloss:1.65844 \n"
     ]
    },
    {
     "name": "stderr",
     "output_type": "stream",
     "text": [
      "[Tune-y] 36: logloss.test.mean=1.58; time: 0.0 min; memory: 114Mb use, 181Mb max\n",
      "[Tune-x] 37: learning_rate=0.7; num_iterations=100; num_leaves=20\n"
     ]
    },
    {
     "name": "stdout",
     "output_type": "stream",
     "text": [
      "[1]:\ttest's multi_logloss:1.72133 \n",
      "[1]:\ttest's multi_logloss:1.67639 \n",
      "[1]:\ttest's multi_logloss:1.69723 \n",
      "[1]:\ttest's multi_logloss:1.65876 \n",
      "[1]:\ttest's multi_logloss:1.7036 \n",
      "[1]:\ttest's multi_logloss:1.67276 \n",
      "[1]:\ttest's multi_logloss:1.69129 \n",
      "[1]:\ttest's multi_logloss:1.68543 \n",
      "[1]:\ttest's multi_logloss:1.70343 \n",
      "[1]:\ttest's multi_logloss:1.674 \n"
     ]
    },
    {
     "name": "stderr",
     "output_type": "stream",
     "text": [
      "[Tune-y] 37: logloss.test.mean=1.59; time: 0.0 min; memory: 119Mb use, 181Mb max\n",
      "[Tune-x] 38: learning_rate=0.8; num_iterations=100; num_leaves=20\n"
     ]
    },
    {
     "name": "stdout",
     "output_type": "stream",
     "text": [
      "[1]:\ttest's multi_logloss:1.74541 \n",
      "[1]:\ttest's multi_logloss:1.69523 \n",
      "[1]:\ttest's multi_logloss:1.71903 \n",
      "[1]:\ttest's multi_logloss:1.67536 \n",
      "[1]:\ttest's multi_logloss:1.72569 \n",
      "[1]:\ttest's multi_logloss:1.69079 \n",
      "[1]:\ttest's multi_logloss:1.71211 \n",
      "[1]:\ttest's multi_logloss:1.70533 \n",
      "[1]:\ttest's multi_logloss:1.72615 \n",
      "[1]:\ttest's multi_logloss:1.69175 \n"
     ]
    },
    {
     "name": "stderr",
     "output_type": "stream",
     "text": [
      "[Tune-y] 38: logloss.test.mean=1.59; time: 0.0 min; memory: 114Mb use, 181Mb max\n",
      "[Tune-x] 39: learning_rate=0.9; num_iterations=100; num_leaves=20\n"
     ]
    },
    {
     "name": "stdout",
     "output_type": "stream",
     "text": [
      "[1]:\ttest's multi_logloss:1.77156 \n",
      "[1]:\ttest's multi_logloss:1.71642 \n",
      "[1]:\ttest's multi_logloss:1.74319 \n",
      "[1]:\ttest's multi_logloss:1.6944 \n",
      "[1]:\ttest's multi_logloss:1.74998 \n",
      "[1]:\ttest's multi_logloss:1.71113 \n",
      "[1]:\ttest's multi_logloss:1.73532 \n",
      "[1]:\ttest's multi_logloss:1.72754 \n",
      "[1]:\ttest's multi_logloss:1.75123 \n",
      "[1]:\ttest's multi_logloss:1.71168 \n"
     ]
    },
    {
     "name": "stderr",
     "output_type": "stream",
     "text": [
      "[Tune-y] 39: logloss.test.mean= 1.6; time: 0.0 min; memory: 114Mb use, 181Mb max\n",
      "[Tune-x] 40: learning_rate=1; num_iterations=100; num_leaves=20\n"
     ]
    },
    {
     "name": "stdout",
     "output_type": "stream",
     "text": [
      "[1]:\ttest's multi_logloss:1.79975 \n",
      "[1]:\ttest's multi_logloss:1.73993 \n",
      "[1]:\ttest's multi_logloss:1.76966 \n",
      "[1]:\ttest's multi_logloss:1.71586 \n",
      "[1]:\ttest's multi_logloss:1.77642 \n",
      "[1]:\ttest's multi_logloss:1.73377 \n",
      "[1]:\ttest's multi_logloss:1.76087 \n",
      "[1]:\ttest's multi_logloss:1.75205 \n",
      "[1]:\ttest's multi_logloss:1.77864 \n",
      "[1]:\ttest's multi_logloss:1.73375 \n"
     ]
    },
    {
     "name": "stderr",
     "output_type": "stream",
     "text": [
      "[Tune-y] 40: logloss.test.mean=1.61; time: 0.0 min; memory: 114Mb use, 181Mb max\n",
      "[Tune-x] 41: learning_rate=0.1; num_iterations=100; num_leaves=25\n"
     ]
    },
    {
     "name": "stdout",
     "output_type": "stream",
     "text": [
      "[1]:\ttest's multi_logloss:1.61625 \n",
      "[1]:\ttest's multi_logloss:1.60968 \n",
      "[1]:\ttest's multi_logloss:1.61408 \n",
      "[1]:\ttest's multi_logloss:1.60607 \n",
      "[1]:\ttest's multi_logloss:1.61525 \n",
      "[1]:\ttest's multi_logloss:1.60929 \n",
      "[1]:\ttest's multi_logloss:1.61248 \n",
      "[1]:\ttest's multi_logloss:1.61043 \n",
      "[1]:\ttest's multi_logloss:1.61486 \n",
      "[1]:\ttest's multi_logloss:1.61007 \n"
     ]
    },
    {
     "name": "stderr",
     "output_type": "stream",
     "text": [
      "[Tune-y] 41: logloss.test.mean= 1.6; time: 0.0 min; memory: 119Mb use, 181Mb max\n",
      "[Tune-x] 42: learning_rate=0.2; num_iterations=100; num_leaves=25\n"
     ]
    },
    {
     "name": "stdout",
     "output_type": "stream",
     "text": [
      "[1]:\ttest's multi_logloss:1.62522 \n",
      "[1]:\ttest's multi_logloss:1.61234 \n",
      "[1]:\ttest's multi_logloss:1.62102 \n",
      "[1]:\ttest's multi_logloss:1.605 \n",
      "[1]:\ttest's multi_logloss:1.6233 \n",
      "[1]:\ttest's multi_logloss:1.61136 \n",
      "[1]:\ttest's multi_logloss:1.61767 \n",
      "[1]:\ttest's multi_logloss:1.61365 \n",
      "[1]:\ttest's multi_logloss:1.6225 \n",
      "[1]:\ttest's multi_logloss:1.6129 \n"
     ]
    },
    {
     "name": "stderr",
     "output_type": "stream",
     "text": [
      "[Tune-y] 42: logloss.test.mean=1.59; time: 0.0 min; memory: 114Mb use, 181Mb max\n",
      "[Tune-x] 43: learning_rate=0.3; num_iterations=100; num_leaves=25\n"
     ]
    },
    {
     "name": "stdout",
     "output_type": "stream",
     "text": [
      "[1]:\ttest's multi_logloss:1.63646 \n",
      "[1]:\ttest's multi_logloss:1.61756 \n",
      "[1]:\ttest's multi_logloss:1.63039 \n",
      "[1]:\ttest's multi_logloss:1.60634 \n",
      "[1]:\ttest's multi_logloss:1.63372 \n",
      "[1]:\ttest's multi_logloss:1.61574 \n",
      "[1]:\ttest's multi_logloss:1.62513 \n",
      "[1]:\ttest's multi_logloss:1.6192 \n",
      "[1]:\ttest's multi_logloss:1.63246 \n",
      "[1]:\ttest's multi_logloss:1.61806 \n"
     ]
    },
    {
     "name": "stderr",
     "output_type": "stream",
     "text": [
      "[Tune-y] 43: logloss.test.mean=1.59; time: 0.0 min; memory: 114Mb use, 181Mb max\n",
      "[Tune-x] 44: learning_rate=0.4; num_iterations=100; num_leaves=25\n"
     ]
    },
    {
     "name": "stdout",
     "output_type": "stream",
     "text": [
      "[1]:\ttest's multi_logloss:1.65004 \n",
      "[1]:\ttest's multi_logloss:1.62544 \n",
      "[1]:\ttest's multi_logloss:1.64231 \n",
      "[1]:\ttest's multi_logloss:1.6102 \n",
      "[1]:\ttest's multi_logloss:1.64659 \n",
      "[1]:\ttest's multi_logloss:1.62253 \n",
      "[1]:\ttest's multi_logloss:1.63496 \n",
      "[1]:\ttest's multi_logloss:1.62717 \n",
      "[1]:\ttest's multi_logloss:1.64483 \n",
      "[1]:\ttest's multi_logloss:1.62564 \n"
     ]
    },
    {
     "name": "stderr",
     "output_type": "stream",
     "text": [
      "[Tune-y] 44: logloss.test.mean=1.58; time: 0.0 min; memory: 114Mb use, 181Mb max\n",
      "[Tune-x] 45: learning_rate=0.5; num_iterations=100; num_leaves=25\n"
     ]
    },
    {
     "name": "stdout",
     "output_type": "stream",
     "text": [
      "[1]:\ttest's multi_logloss:1.66602 \n",
      "[1]:\ttest's multi_logloss:1.63606 \n",
      "[1]:\ttest's multi_logloss:1.65687 \n",
      "[1]:\ttest's multi_logloss:1.61665 \n",
      "[1]:\ttest's multi_logloss:1.66199 \n",
      "[1]:\ttest's multi_logloss:1.63182 \n",
      "[1]:\ttest's multi_logloss:1.64724 \n",
      "[1]:\ttest's multi_logloss:1.63765 \n",
      "[1]:\ttest's multi_logloss:1.65969 \n",
      "[1]:\ttest's multi_logloss:1.63573 \n"
     ]
    },
    {
     "name": "stderr",
     "output_type": "stream",
     "text": [
      "[Tune-y] 45: logloss.test.mean=1.58; time: 0.0 min; memory: 119Mb use, 181Mb max\n",
      "[Tune-x] 46: learning_rate=0.6; num_iterations=100; num_leaves=25\n"
     ]
    },
    {
     "name": "stdout",
     "output_type": "stream",
     "text": [
      "[1]:\ttest's multi_logloss:1.68447 \n",
      "[1]:\ttest's multi_logloss:1.6495 \n",
      "[1]:\ttest's multi_logloss:1.67412 \n",
      "[1]:\ttest's multi_logloss:1.62576 \n",
      "[1]:\ttest's multi_logloss:1.67998 \n",
      "[1]:\ttest's multi_logloss:1.64366 \n",
      "[1]:\ttest's multi_logloss:1.66205 \n",
      "[1]:\ttest's multi_logloss:1.65071 \n",
      "[1]:\ttest's multi_logloss:1.6771 \n",
      "[1]:\ttest's multi_logloss:1.64838 \n"
     ]
    },
    {
     "name": "stderr",
     "output_type": "stream",
     "text": [
      "[Tune-y] 46: logloss.test.mean=1.58; time: 0.0 min; memory: 114Mb use, 181Mb max\n",
      "[Tune-x] 47: learning_rate=0.7; num_iterations=100; num_leaves=25\n"
     ]
    },
    {
     "name": "stdout",
     "output_type": "stream",
     "text": [
      "[1]:\ttest's multi_logloss:1.7054 \n",
      "[1]:\ttest's multi_logloss:1.66576 \n",
      "[1]:\ttest's multi_logloss:1.69411 \n",
      "[1]:\ttest's multi_logloss:1.63757 \n",
      "[1]:\ttest's multi_logloss:1.70058 \n",
      "[1]:\ttest's multi_logloss:1.65808 \n",
      "[1]:\ttest's multi_logloss:1.67942 \n",
      "[1]:\ttest's multi_logloss:1.66637 \n",
      "[1]:\ttest's multi_logloss:1.69707 \n",
      "[1]:\ttest's multi_logloss:1.66361 \n"
     ]
    },
    {
     "name": "stderr",
     "output_type": "stream",
     "text": [
      "[Tune-y] 47: logloss.test.mean=1.59; time: 0.0 min; memory: 114Mb use, 181Mb max\n",
      "[Tune-x] 48: learning_rate=0.8; num_iterations=100; num_leaves=25\n"
     ]
    },
    {
     "name": "stdout",
     "output_type": "stream",
     "text": [
      "[1]:\ttest's multi_logloss:1.72882 \n",
      "[1]:\ttest's multi_logloss:1.68484 \n",
      "[1]:\ttest's multi_logloss:1.71683 \n",
      "[1]:\ttest's multi_logloss:1.65208 \n",
      "[1]:\ttest's multi_logloss:1.72381 \n",
      "[1]:\ttest's multi_logloss:1.67509 \n",
      "[1]:\ttest's multi_logloss:1.69938 \n",
      "[1]:\ttest's multi_logloss:1.68465 \n",
      "[1]:\ttest's multi_logloss:1.71962 \n",
      "[1]:\ttest's multi_logloss:1.68142 \n"
     ]
    },
    {
     "name": "stderr",
     "output_type": "stream",
     "text": [
      "[Tune-y] 48: logloss.test.mean=1.59; time: 0.0 min; memory: 114Mb use, 181Mb max\n",
      "[Tune-x] 49: learning_rate=0.9; num_iterations=100; num_leaves=25\n"
     ]
    },
    {
     "name": "stdout",
     "output_type": "stream",
     "text": [
      "[1]:\ttest's multi_logloss:1.75471 \n",
      "[1]:\ttest's multi_logloss:1.70671 \n",
      "[1]:\ttest's multi_logloss:1.74227 \n",
      "[1]:\ttest's multi_logloss:1.66927 \n",
      "[1]:\ttest's multi_logloss:1.74964 \n",
      "[1]:\ttest's multi_logloss:1.69468 \n",
      "[1]:\ttest's multi_logloss:1.7219 \n",
      "[1]:\ttest's multi_logloss:1.70553 \n",
      "[1]:\ttest's multi_logloss:1.74472 \n",
      "[1]:\ttest's multi_logloss:1.70178 \n"
     ]
    },
    {
     "name": "stderr",
     "output_type": "stream",
     "text": [
      "[Tune-y] 49: logloss.test.mean= 1.6; time: 0.0 min; memory: 119Mb use, 181Mb max\n",
      "[Tune-x] 50: learning_rate=1; num_iterations=100; num_leaves=25\n"
     ]
    },
    {
     "name": "stdout",
     "output_type": "stream",
     "text": [
      "[1]:\ttest's multi_logloss:1.78303 \n",
      "[1]:\ttest's multi_logloss:1.73129 \n",
      "[1]:\ttest's multi_logloss:1.77037 \n",
      "[1]:\ttest's multi_logloss:1.6891 \n",
      "[1]:\ttest's multi_logloss:1.77802 \n",
      "[1]:\ttest's multi_logloss:1.71681 \n",
      "[1]:\ttest's multi_logloss:1.74695 \n",
      "[1]:\ttest's multi_logloss:1.72899 \n",
      "[1]:\ttest's multi_logloss:1.77232 \n",
      "[1]:\ttest's multi_logloss:1.72463 \n"
     ]
    },
    {
     "name": "stderr",
     "output_type": "stream",
     "text": [
      "[Tune-y] 50: logloss.test.mean=1.61; time: 0.0 min; memory: 114Mb use, 181Mb max\n",
      "[Tune-x] 51: learning_rate=0.1; num_iterations=100; num_leaves=30\n"
     ]
    },
    {
     "name": "stdout",
     "output_type": "stream",
     "text": [
      "[1]:\ttest's multi_logloss:1.6135 \n",
      "[1]:\ttest's multi_logloss:1.6061 \n",
      "[1]:\ttest's multi_logloss:1.61057 \n",
      "[1]:\ttest's multi_logloss:1.60314 \n",
      "[1]:\ttest's multi_logloss:1.61353 \n",
      "[1]:\ttest's multi_logloss:1.60566 \n",
      "[1]:\ttest's multi_logloss:1.60974 \n",
      "[1]:\ttest's multi_logloss:1.60903 \n",
      "[1]:\ttest's multi_logloss:1.61207 \n",
      "[1]:\ttest's multi_logloss:1.60692 \n"
     ]
    },
    {
     "name": "stderr",
     "output_type": "stream",
     "text": [
      "[Tune-y] 51: logloss.test.mean= 1.6; time: 0.0 min; memory: 116Mb use, 181Mb max\n",
      "[Tune-x] 52: learning_rate=0.2; num_iterations=100; num_leaves=30\n"
     ]
    },
    {
     "name": "stdout",
     "output_type": "stream",
     "text": [
      "[1]:\ttest's multi_logloss:1.61994 \n",
      "[1]:\ttest's multi_logloss:1.60556 \n",
      "[1]:\ttest's multi_logloss:1.61424 \n",
      "[1]:\ttest's multi_logloss:1.59939 \n",
      "[1]:\ttest's multi_logloss:1.6202 \n",
      "[1]:\ttest's multi_logloss:1.60427 \n",
      "[1]:\ttest's multi_logloss:1.61244 \n",
      "[1]:\ttest's multi_logloss:1.61119 \n",
      "[1]:\ttest's multi_logloss:1.61719 \n",
      "[1]:\ttest's multi_logloss:1.60684 \n"
     ]
    },
    {
     "name": "stderr",
     "output_type": "stream",
     "text": [
      "[Tune-y] 52: logloss.test.mean=1.59; time: 0.0 min; memory: 116Mb use, 181Mb max\n",
      "[Tune-x] 53: learning_rate=0.3; num_iterations=100; num_leaves=30\n"
     ]
    },
    {
     "name": "stdout",
     "output_type": "stream",
     "text": [
      "[1]:\ttest's multi_logloss:1.62887 \n",
      "[1]:\ttest's multi_logloss:1.60796 \n",
      "[1]:\ttest's multi_logloss:1.62057 \n",
      "[1]:\ttest's multi_logloss:1.59833 \n",
      "[1]:\ttest's multi_logloss:1.62955 \n",
      "[1]:\ttest's multi_logloss:1.60539 \n",
      "[1]:\ttest's multi_logloss:1.6177 \n",
      "[1]:\ttest's multi_logloss:1.61605 \n",
      "[1]:\ttest's multi_logloss:1.62491 \n",
      "[1]:\ttest's multi_logloss:1.60934 \n"
     ]
    },
    {
     "name": "stderr",
     "output_type": "stream",
     "text": [
      "[Tune-y] 53: logloss.test.mean=1.59; time: 0.0 min; memory: 112Mb use, 181Mb max\n",
      "[Tune-x] 54: learning_rate=0.4; num_iterations=100; num_leaves=30\n"
     ]
    },
    {
     "name": "stdout",
     "output_type": "stream",
     "text": [
      "[1]:\ttest's multi_logloss:1.64037 \n",
      "[1]:\ttest's multi_logloss:1.61343 \n",
      "[1]:\ttest's multi_logloss:1.62971 \n",
      "[1]:\ttest's multi_logloss:1.60006 \n",
      "[1]:\ttest's multi_logloss:1.64171 \n",
      "[1]:\ttest's multi_logloss:1.60912 \n",
      "[1]:\ttest's multi_logloss:1.62562 \n",
      "[1]:\ttest's multi_logloss:1.62374 \n",
      "[1]:\ttest's multi_logloss:1.63537 \n",
      "[1]:\ttest's multi_logloss:1.61452 \n"
     ]
    },
    {
     "name": "stderr",
     "output_type": "stream",
     "text": [
      "[Tune-y] 54: logloss.test.mean=1.58; time: 0.0 min; memory: 116Mb use, 181Mb max\n",
      "[Tune-x] 55: learning_rate=0.5; num_iterations=100; num_leaves=30\n"
     ]
    },
    {
     "name": "stdout",
     "output_type": "stream",
     "text": [
      "[1]:\ttest's multi_logloss:1.65452 \n",
      "[1]:\ttest's multi_logloss:1.62205 \n",
      "[1]:\ttest's multi_logloss:1.64174 \n",
      "[1]:\ttest's multi_logloss:1.60469 \n",
      "[1]:\ttest's multi_logloss:1.65676 \n",
      "[1]:\ttest's multi_logloss:1.61552 \n",
      "[1]:\ttest's multi_logloss:1.63631 \n",
      "[1]:\ttest's multi_logloss:1.63433 \n",
      "[1]:\ttest's multi_logloss:1.64864 \n",
      "[1]:\ttest's multi_logloss:1.62248 \n"
     ]
    },
    {
     "name": "stderr",
     "output_type": "stream",
     "text": [
      "[Tune-y] 55: logloss.test.mean=1.58; time: 0.0 min; memory: 116Mb use, 181Mb max\n",
      "[Tune-x] 56: learning_rate=0.6; num_iterations=100; num_leaves=30\n"
     ]
    },
    {
     "name": "stdout",
     "output_type": "stream",
     "text": [
      "[1]:\ttest's multi_logloss:1.67136 \n",
      "[1]:\ttest's multi_logloss:1.6339 \n",
      "[1]:\ttest's multi_logloss:1.65675 \n",
      "[1]:\ttest's multi_logloss:1.61229 \n",
      "[1]:\ttest's multi_logloss:1.67476 \n",
      "[1]:\ttest's multi_logloss:1.62465 \n",
      "[1]:\ttest's multi_logloss:1.64983 \n",
      "[1]:\ttest's multi_logloss:1.64792 \n",
      "[1]:\ttest's multi_logloss:1.6648 \n",
      "[1]:\ttest's multi_logloss:1.63328 \n"
     ]
    },
    {
     "name": "stderr",
     "output_type": "stream",
     "text": [
      "[Tune-y] 56: logloss.test.mean=1.59; time: 0.0 min; memory: 116Mb use, 181Mb max\n",
      "[Tune-x] 57: learning_rate=0.7; num_iterations=100; num_leaves=30\n"
     ]
    },
    {
     "name": "stdout",
     "output_type": "stream",
     "text": [
      "[1]:\ttest's multi_logloss:1.69092 \n",
      "[1]:\ttest's multi_logloss:1.64899 \n",
      "[1]:\ttest's multi_logloss:1.67476 \n",
      "[1]:\ttest's multi_logloss:1.62288 \n",
      "[1]:\ttest's multi_logloss:1.69573 \n",
      "[1]:\ttest's multi_logloss:1.63655 \n",
      "[1]:\ttest's multi_logloss:1.66624 \n",
      "[1]:\ttest's multi_logloss:1.66452 \n",
      "[1]:\ttest's multi_logloss:1.68388 \n",
      "[1]:\ttest's multi_logloss:1.64695 \n"
     ]
    },
    {
     "name": "stderr",
     "output_type": "stream",
     "text": [
      "[Tune-y] 57: logloss.test.mean=1.59; time: 0.0 min; memory: 112Mb use, 181Mb max\n",
      "[Tune-x] 58: learning_rate=0.8; num_iterations=100; num_leaves=30\n"
     ]
    },
    {
     "name": "stdout",
     "output_type": "stream",
     "text": [
      "[1]:\ttest's multi_logloss:1.71319 \n",
      "[1]:\ttest's multi_logloss:1.66731 \n",
      "[1]:\ttest's multi_logloss:1.69578 \n",
      "[1]:\ttest's multi_logloss:1.63649 \n",
      "[1]:\ttest's multi_logloss:1.71968 \n",
      "[1]:\ttest's multi_logloss:1.6512 \n",
      "[1]:\ttest's multi_logloss:1.68553 \n",
      "[1]:\ttest's multi_logloss:1.68415 \n",
      "[1]:\ttest's multi_logloss:1.70588 \n",
      "[1]:\ttest's multi_logloss:1.66347 \n"
     ]
    },
    {
     "name": "stderr",
     "output_type": "stream",
     "text": [
      "[Tune-y] 58: logloss.test.mean= 1.6; time: 0.0 min; memory: 116Mb use, 181Mb max\n",
      "[Tune-x] 59: learning_rate=0.9; num_iterations=100; num_leaves=30\n"
     ]
    },
    {
     "name": "stdout",
     "output_type": "stream",
     "text": [
      "[1]:\ttest's multi_logloss:1.73816 \n",
      "[1]:\ttest's multi_logloss:1.68882 \n",
      "[1]:\ttest's multi_logloss:1.71978 \n",
      "[1]:\ttest's multi_logloss:1.65308 \n",
      "[1]:\ttest's multi_logloss:1.74656 \n",
      "[1]:\ttest's multi_logloss:1.6686 \n",
      "[1]:\ttest's multi_logloss:1.70769 \n",
      "[1]:\ttest's multi_logloss:1.7068 \n",
      "[1]:\ttest's multi_logloss:1.73075 \n",
      "[1]:\ttest's multi_logloss:1.6828 \n"
     ]
    },
    {
     "name": "stderr",
     "output_type": "stream",
     "text": [
      "[Tune-y] 59: logloss.test.mean=1.61; time: 0.0 min; memory: 116Mb use, 181Mb max\n",
      "[Tune-x] 60: learning_rate=1; num_iterations=100; num_leaves=30\n"
     ]
    },
    {
     "name": "stdout",
     "output_type": "stream",
     "text": [
      "[1]:\ttest's multi_logloss:1.76577 \n",
      "[1]:\ttest's multi_logloss:1.71342 \n",
      "[1]:\ttest's multi_logloss:1.74667 \n",
      "[1]:\ttest's multi_logloss:1.67261 \n",
      "[1]:\ttest's multi_logloss:1.77631 \n",
      "[1]:\ttest's multi_logloss:1.68868 \n",
      "[1]:\ttest's multi_logloss:1.73266 \n",
      "[1]:\ttest's multi_logloss:1.73241 \n",
      "[1]:\ttest's multi_logloss:1.75845 \n",
      "[1]:\ttest's multi_logloss:1.70487 \n"
     ]
    },
    {
     "name": "stderr",
     "output_type": "stream",
     "text": [
      "[Tune-y] 60: logloss.test.mean=1.62; time: 0.0 min; memory: 116Mb use, 181Mb max\n",
      "[Tune-x] 61: learning_rate=0.1; num_iterations=100; num_leaves=35\n"
     ]
    },
    {
     "name": "stdout",
     "output_type": "stream",
     "text": [
      "[1]:\ttest's multi_logloss:1.61125 \n",
      "[1]:\ttest's multi_logloss:1.60058 \n",
      "[1]:\ttest's multi_logloss:1.60826 \n",
      "[1]:\ttest's multi_logloss:1.60115 \n",
      "[1]:\ttest's multi_logloss:1.61088 \n",
      "[1]:\ttest's multi_logloss:1.6021 \n",
      "[1]:\ttest's multi_logloss:1.60696 \n",
      "[1]:\ttest's multi_logloss:1.60696 \n",
      "[1]:\ttest's multi_logloss:1.61012 \n",
      "[1]:\ttest's multi_logloss:1.60525 \n"
     ]
    },
    {
     "name": "stderr",
     "output_type": "stream",
     "text": [
      "[Tune-y] 61: logloss.test.mean= 1.6; time: 0.0 min; memory: 112Mb use, 181Mb max\n",
      "[Tune-x] 62: learning_rate=0.2; num_iterations=100; num_leaves=35\n"
     ]
    },
    {
     "name": "stdout",
     "output_type": "stream",
     "text": [
      "[1]:\ttest's multi_logloss:1.61567 \n",
      "[1]:\ttest's multi_logloss:1.59475 \n",
      "[1]:\ttest's multi_logloss:1.6098 \n",
      "[1]:\ttest's multi_logloss:1.5957 \n",
      "[1]:\ttest's multi_logloss:1.61504 \n",
      "[1]:\ttest's multi_logloss:1.59744 \n",
      "[1]:\ttest's multi_logloss:1.60711 \n",
      "[1]:\ttest's multi_logloss:1.60731 \n",
      "[1]:\ttest's multi_logloss:1.61351 \n",
      "[1]:\ttest's multi_logloss:1.60375 \n"
     ]
    },
    {
     "name": "stderr",
     "output_type": "stream",
     "text": [
      "[Tune-y] 62: logloss.test.mean=1.59; time: 0.0 min; memory: 116Mb use, 181Mb max\n",
      "[Tune-x] 63: learning_rate=0.3; num_iterations=100; num_leaves=35\n"
     ]
    },
    {
     "name": "stdout",
     "output_type": "stream",
     "text": [
      "[1]:\ttest's multi_logloss:1.62279 \n",
      "[1]:\ttest's multi_logloss:1.59208 \n",
      "[1]:\ttest's multi_logloss:1.6142 \n",
      "[1]:\ttest's multi_logloss:1.59325 \n",
      "[1]:\ttest's multi_logloss:1.62207 \n",
      "[1]:\ttest's multi_logloss:1.59559 \n",
      "[1]:\ttest's multi_logloss:1.61001 \n",
      "[1]:\ttest's multi_logloss:1.61062 \n",
      "[1]:\ttest's multi_logloss:1.61976 \n",
      "[1]:\ttest's multi_logloss:1.6051 \n"
     ]
    },
    {
     "name": "stderr",
     "output_type": "stream",
     "text": [
      "[Tune-y] 63: logloss.test.mean=1.58; time: 0.0 min; memory: 116Mb use, 181Mb max\n",
      "[Tune-x] 64: learning_rate=0.4; num_iterations=100; num_leaves=35\n"
     ]
    },
    {
     "name": "stdout",
     "output_type": "stream",
     "text": [
      "[1]:\ttest's multi_logloss:1.6327 \n",
      "[1]:\ttest's multi_logloss:1.59272 \n",
      "[1]:\ttest's multi_logloss:1.62161 \n",
      "[1]:\ttest's multi_logloss:1.59391 \n",
      "[1]:\ttest's multi_logloss:1.63207 \n",
      "[1]:\ttest's multi_logloss:1.59666 \n",
      "[1]:\ttest's multi_logloss:1.6158 \n",
      "[1]:\ttest's multi_logloss:1.61702 \n",
      "[1]:\ttest's multi_logloss:1.62899 \n",
      "[1]:\ttest's multi_logloss:1.60941 \n"
     ]
    },
    {
     "name": "stderr",
     "output_type": "stream",
     "text": [
      "[Tune-y] 64: logloss.test.mean=1.58; time: 0.0 min; memory: 116Mb use, 181Mb max\n",
      "[Tune-x] 65: learning_rate=0.5; num_iterations=100; num_leaves=35\n"
     ]
    },
    {
     "name": "stdout",
     "output_type": "stream",
     "text": [
      "[1]:\ttest's multi_logloss:1.64547 \n",
      "[1]:\ttest's multi_logloss:1.59678 \n",
      "[1]:\ttest's multi_logloss:1.63212 \n",
      "[1]:\ttest's multi_logloss:1.5978 \n",
      "[1]:\ttest's multi_logloss:1.64513 \n",
      "[1]:\ttest's multi_logloss:1.60073 \n",
      "[1]:\ttest's multi_logloss:1.62458 \n",
      "[1]:\ttest's multi_logloss:1.62661 \n",
      "[1]:\ttest's multi_logloss:1.6413 \n",
      "[1]:\ttest's multi_logloss:1.61678 \n"
     ]
    },
    {
     "name": "stderr",
     "output_type": "stream",
     "text": [
      "[Tune-y] 65: logloss.test.mean=1.58; time: 0.0 min; memory: 112Mb use, 181Mb max\n",
      "[Tune-x] 66: learning_rate=0.6; num_iterations=100; num_leaves=35\n"
     ]
    },
    {
     "name": "stdout",
     "output_type": "stream",
     "text": [
      "[1]:\ttest's multi_logloss:1.66114 \n",
      "[1]:\ttest's multi_logloss:1.60431 \n",
      "[1]:\ttest's multi_logloss:1.64582 \n",
      "[1]:\ttest's multi_logloss:1.60499 \n",
      "[1]:\ttest's multi_logloss:1.66132 \n",
      "[1]:\ttest's multi_logloss:1.60787 \n",
      "[1]:\ttest's multi_logloss:1.63641 \n",
      "[1]:\ttest's multi_logloss:1.63947 \n",
      "[1]:\ttest's multi_logloss:1.65675 \n",
      "[1]:\ttest's multi_logloss:1.62727 \n"
     ]
    },
    {
     "name": "stderr",
     "output_type": "stream",
     "text": [
      "[Tune-y] 66: logloss.test.mean=1.59; time: 0.0 min; memory: 116Mb use, 181Mb max\n",
      "[Tune-x] 67: learning_rate=0.7; num_iterations=100; num_leaves=35\n"
     ]
    },
    {
     "name": "stdout",
     "output_type": "stream",
     "text": [
      "[1]:\ttest's multi_logloss:1.67972 \n",
      "[1]:\ttest's multi_logloss:1.61534 \n",
      "[1]:\ttest's multi_logloss:1.66275 \n",
      "[1]:\ttest's multi_logloss:1.61551 \n",
      "[1]:\ttest's multi_logloss:1.68065 \n",
      "[1]:\ttest's multi_logloss:1.61811 \n",
      "[1]:\ttest's multi_logloss:1.65134 \n",
      "[1]:\ttest's multi_logloss:1.65563 \n",
      "[1]:\ttest's multi_logloss:1.67539 \n",
      "[1]:\ttest's multi_logloss:1.64088 \n"
     ]
    },
    {
     "name": "stderr",
     "output_type": "stream",
     "text": [
      "[Tune-y] 67: logloss.test.mean=1.59; time: 0.0 min; memory: 116Mb use, 181Mb max\n",
      "[Tune-x] 68: learning_rate=0.8; num_iterations=100; num_leaves=35\n"
     ]
    },
    {
     "name": "stdout",
     "output_type": "stream",
     "text": [
      "[1]:\ttest's multi_logloss:1.70122 \n",
      "[1]:\ttest's multi_logloss:1.62985 \n",
      "[1]:\ttest's multi_logloss:1.68289 \n",
      "[1]:\ttest's multi_logloss:1.62936 \n",
      "[1]:\ttest's multi_logloss:1.70311 \n",
      "[1]:\ttest's multi_logloss:1.63143 \n",
      "[1]:\ttest's multi_logloss:1.66938 \n",
      "[1]:\ttest's multi_logloss:1.6751 \n",
      "[1]:\ttest's multi_logloss:1.69721 \n",
      "[1]:\ttest's multi_logloss:1.6576 \n"
     ]
    },
    {
     "name": "stderr",
     "output_type": "stream",
     "text": [
      "[Tune-y] 68: logloss.test.mean= 1.6; time: 0.0 min; memory: 116Mb use, 181Mb max\n",
      "[Tune-x] 69: learning_rate=0.9; num_iterations=100; num_leaves=35\n"
     ]
    },
    {
     "name": "stdout",
     "output_type": "stream",
     "text": [
      "[1]:\ttest's multi_logloss:1.72558 \n",
      "[1]:\ttest's multi_logloss:1.64779 \n",
      "[1]:\ttest's multi_logloss:1.70622 \n",
      "[1]:\ttest's multi_logloss:1.64651 \n",
      "[1]:\ttest's multi_logloss:1.72867 \n",
      "[1]:\ttest's multi_logloss:1.64779 \n",
      "[1]:\ttest's multi_logloss:1.6905 \n",
      "[1]:\ttest's multi_logloss:1.69785 \n",
      "[1]:\ttest's multi_logloss:1.72217 \n",
      "[1]:\ttest's multi_logloss:1.67736 \n"
     ]
    },
    {
     "name": "stderr",
     "output_type": "stream",
     "text": [
      "[Tune-y] 69: logloss.test.mean=1.61; time: 0.0 min; memory: 112Mb use, 181Mb max\n",
      "[Tune-x] 70: learning_rate=1; num_iterations=100; num_leaves=35\n"
     ]
    },
    {
     "name": "stdout",
     "output_type": "stream",
     "text": [
      "[1]:\ttest's multi_logloss:1.75276 \n",
      "[1]:\ttest's multi_logloss:1.66905 \n",
      "[1]:\ttest's multi_logloss:1.73266 \n",
      "[1]:\ttest's multi_logloss:1.66687 \n",
      "[1]:\ttest's multi_logloss:1.75726 \n",
      "[1]:\ttest's multi_logloss:1.66712 \n",
      "[1]:\ttest's multi_logloss:1.71464 \n",
      "[1]:\ttest's multi_logloss:1.72383 \n",
      "[1]:\ttest's multi_logloss:1.75021 \n",
      "[1]:\ttest's multi_logloss:1.70008 \n"
     ]
    },
    {
     "name": "stderr",
     "output_type": "stream",
     "text": [
      "[Tune-y] 70: logloss.test.mean=1.63; time: 0.0 min; memory: 116Mb use, 181Mb max\n",
      "[Tune-x] 71: learning_rate=0.1; num_iterations=100; num_leaves=40\n"
     ]
    },
    {
     "name": "stdout",
     "output_type": "stream",
     "text": [
      "[1]:\ttest's multi_logloss:1.60923 \n",
      "[1]:\ttest's multi_logloss:1.59639 \n",
      "[1]:\ttest's multi_logloss:1.60669 \n",
      "[1]:\ttest's multi_logloss:1.59779 \n",
      "[1]:\ttest's multi_logloss:1.60974 \n",
      "[1]:\ttest's multi_logloss:1.59948 \n",
      "[1]:\ttest's multi_logloss:1.60406 \n",
      "[1]:\ttest's multi_logloss:1.60488 \n",
      "[1]:\ttest's multi_logloss:1.60883 \n",
      "[1]:\ttest's multi_logloss:1.60189 \n"
     ]
    },
    {
     "name": "stderr",
     "output_type": "stream",
     "text": [
      "[Tune-y] 71: logloss.test.mean= 1.6; time: 0.0 min; memory: 116Mb use, 181Mb max\n",
      "[Tune-x] 72: learning_rate=0.2; num_iterations=100; num_leaves=40\n"
     ]
    },
    {
     "name": "stdout",
     "output_type": "stream",
     "text": [
      "[1]:\ttest's multi_logloss:1.61181 \n",
      "[1]:\ttest's multi_logloss:1.58659 \n",
      "[1]:\ttest's multi_logloss:1.60684 \n",
      "[1]:\ttest's multi_logloss:1.58919 \n",
      "[1]:\ttest's multi_logloss:1.61301 \n",
      "[1]:\ttest's multi_logloss:1.59241 \n",
      "[1]:\ttest's multi_logloss:1.60151 \n",
      "[1]:\ttest's multi_logloss:1.60331 \n",
      "[1]:\ttest's multi_logloss:1.6111 \n",
      "[1]:\ttest's multi_logloss:1.59724 \n"
     ]
    },
    {
     "name": "stderr",
     "output_type": "stream",
     "text": [
      "[Tune-y] 72: logloss.test.mean=1.59; time: 0.0 min; memory: 116Mb use, 181Mb max\n",
      "[Tune-x] 73: learning_rate=0.3; num_iterations=100; num_leaves=40\n"
     ]
    },
    {
     "name": "stdout",
     "output_type": "stream",
     "text": [
      "[1]:\ttest's multi_logloss:1.61728 \n",
      "[1]:\ttest's multi_logloss:1.58021 \n",
      "[1]:\ttest's multi_logloss:1.61005 \n",
      "[1]:\ttest's multi_logloss:1.5838 \n",
      "[1]:\ttest's multi_logloss:1.61941 \n",
      "[1]:\ttest's multi_logloss:1.58837 \n",
      "[1]:\ttest's multi_logloss:1.60195 \n",
      "[1]:\ttest's multi_logloss:1.60489 \n",
      "[1]:\ttest's multi_logloss:1.6164 \n",
      "[1]:\ttest's multi_logloss:1.59562 \n"
     ]
    },
    {
     "name": "stderr",
     "output_type": "stream",
     "text": [
      "[Tune-y] 73: logloss.test.mean=1.58; time: 0.0 min; memory: 112Mb use, 181Mb max\n",
      "[Tune-x] 74: learning_rate=0.4; num_iterations=100; num_leaves=40\n"
     ]
    },
    {
     "name": "stdout",
     "output_type": "stream",
     "text": [
      "[1]:\ttest's multi_logloss:1.62575 \n",
      "[1]:\ttest's multi_logloss:1.57742 \n",
      "[1]:\ttest's multi_logloss:1.61647 \n",
      "[1]:\ttest's multi_logloss:1.58176 \n",
      "[1]:\ttest's multi_logloss:1.62905 \n",
      "[1]:\ttest's multi_logloss:1.58748 \n",
      "[1]:\ttest's multi_logloss:1.60551 \n",
      "[1]:\ttest's multi_logloss:1.60974 \n",
      "[1]:\ttest's multi_logloss:1.62487 \n",
      "[1]:\ttest's multi_logloss:1.59717 \n"
     ]
    },
    {
     "name": "stderr",
     "output_type": "stream",
     "text": [
      "[Tune-y] 74: logloss.test.mean=1.58; time: 0.0 min; memory: 116Mb use, 181Mb max\n",
      "[Tune-x] 75: learning_rate=0.5; num_iterations=100; num_leaves=40\n"
     ]
    },
    {
     "name": "stdout",
     "output_type": "stream",
     "text": [
      "[1]:\ttest's multi_logloss:1.63729 \n",
      "[1]:\ttest's multi_logloss:1.57831 \n",
      "[1]:\ttest's multi_logloss:1.6262 \n",
      "[1]:\ttest's multi_logloss:1.58319 \n",
      "[1]:\ttest's multi_logloss:1.64203 \n",
      "[1]:\ttest's multi_logloss:1.58983 \n",
      "[1]:\ttest's multi_logloss:1.61228 \n",
      "[1]:\ttest's multi_logloss:1.61797 \n",
      "[1]:\ttest's multi_logloss:1.6366 \n",
      "[1]:\ttest's multi_logloss:1.60199 \n"
     ]
    },
    {
     "name": "stderr",
     "output_type": "stream",
     "text": [
      "[Tune-y] 75: logloss.test.mean=1.58; time: 0.0 min; memory: 116Mb use, 181Mb max\n",
      "[Tune-x] 76: learning_rate=0.6; num_iterations=100; num_leaves=40\n"
     ]
    },
    {
     "name": "stdout",
     "output_type": "stream",
     "text": [
      "[1]:\ttest's multi_logloss:1.65193 \n",
      "[1]:\ttest's multi_logloss:1.58297 \n",
      "[1]:\ttest's multi_logloss:1.63932 \n",
      "[1]:\ttest's multi_logloss:1.58815 \n",
      "[1]:\ttest's multi_logloss:1.6584 \n",
      "[1]:\ttest's multi_logloss:1.59547 \n",
      "[1]:\ttest's multi_logloss:1.62233 \n",
      "[1]:\ttest's multi_logloss:1.62967 \n",
      "[1]:\ttest's multi_logloss:1.65168 \n",
      "[1]:\ttest's multi_logloss:1.61014 \n"
     ]
    },
    {
     "name": "stderr",
     "output_type": "stream",
     "text": [
      "[Tune-y] 76: logloss.test.mean=1.59; time: 0.0 min; memory: 116Mb use, 181Mb max\n",
      "[Tune-x] 77: learning_rate=0.7; num_iterations=100; num_leaves=40\n"
     ]
    },
    {
     "name": "stdout",
     "output_type": "stream",
     "text": [
      "[1]:\ttest's multi_logloss:1.66968 \n",
      "[1]:\ttest's multi_logloss:1.59142 \n",
      "[1]:\ttest's multi_logloss:1.65585 \n",
      "[1]:\ttest's multi_logloss:1.5967 \n",
      "[1]:\ttest's multi_logloss:1.67819 \n",
      "[1]:\ttest's multi_logloss:1.60443 \n",
      "[1]:\ttest's multi_logloss:1.6357 \n",
      "[1]:\ttest's multi_logloss:1.64487 \n",
      "[1]:\ttest's multi_logloss:1.67012 \n",
      "[1]:\ttest's multi_logloss:1.62162 \n"
     ]
    },
    {
     "name": "stderr",
     "output_type": "stream",
     "text": [
      "[Tune-y] 77: logloss.test.mean=1.59; time: 0.0 min; memory: 112Mb use, 181Mb max\n",
      "[Tune-x] 78: learning_rate=0.8; num_iterations=100; num_leaves=40\n"
     ]
    },
    {
     "name": "stdout",
     "output_type": "stream",
     "text": [
      "[1]:\ttest's multi_logloss:1.69055 \n",
      "[1]:\ttest's multi_logloss:1.60363 \n",
      "[1]:\ttest's multi_logloss:1.67578 \n",
      "[1]:\ttest's multi_logloss:1.60883 \n",
      "[1]:\ttest's multi_logloss:1.70138 \n",
      "[1]:\ttest's multi_logloss:1.61669 \n",
      "[1]:\ttest's multi_logloss:1.65239 \n",
      "[1]:\ttest's multi_logloss:1.66356 \n",
      "[1]:\ttest's multi_logloss:1.69194 \n",
      "[1]:\ttest's multi_logloss:1.63641 \n"
     ]
    },
    {
     "name": "stderr",
     "output_type": "stream",
     "text": [
      "[Tune-y] 78: logloss.test.mean=1.61; time: 0.0 min; memory: 116Mb use, 181Mb max\n",
      "[Tune-x] 79: learning_rate=0.9; num_iterations=100; num_leaves=40\n"
     ]
    },
    {
     "name": "stdout",
     "output_type": "stream",
     "text": [
      "[1]:\ttest's multi_logloss:1.71447 \n",
      "[1]:\ttest's multi_logloss:1.61953 \n",
      "[1]:\ttest's multi_logloss:1.69906 \n",
      "[1]:\ttest's multi_logloss:1.62448 \n",
      "[1]:\ttest's multi_logloss:1.72791 \n",
      "[1]:\ttest's multi_logloss:1.63221 \n",
      "[1]:\ttest's multi_logloss:1.67234 \n",
      "[1]:\ttest's multi_logloss:1.6857 \n",
      "[1]:\ttest's multi_logloss:1.71708 \n",
      "[1]:\ttest's multi_logloss:1.65445 \n"
     ]
    },
    {
     "name": "stderr",
     "output_type": "stream",
     "text": [
      "[Tune-y] 79: logloss.test.mean=1.62; time: 0.0 min; memory: 116Mb use, 181Mb max\n",
      "[Tune-x] 80: learning_rate=1; num_iterations=100; num_leaves=40\n"
     ]
    },
    {
     "name": "stdout",
     "output_type": "stream",
     "text": [
      "[1]:\ttest's multi_logloss:1.74138 \n",
      "[1]:\ttest's multi_logloss:1.63902 \n",
      "[1]:\ttest's multi_logloss:1.72561 \n",
      "[1]:\ttest's multi_logloss:1.64359 \n",
      "[1]:\ttest's multi_logloss:1.75771 \n",
      "[1]:\ttest's multi_logloss:1.6509 \n",
      "[1]:\ttest's multi_logloss:1.69548 \n",
      "[1]:\ttest's multi_logloss:1.71123 \n",
      "[1]:\ttest's multi_logloss:1.74547 \n",
      "[1]:\ttest's multi_logloss:1.67562 \n"
     ]
    },
    {
     "name": "stderr",
     "output_type": "stream",
     "text": [
      "[Tune-y] 80: logloss.test.mean=1.64; time: 0.0 min; memory: 116Mb use, 181Mb max\n",
      "[Tune-x] 81: learning_rate=0.1; num_iterations=100; num_leaves=45\n"
     ]
    },
    {
     "name": "stdout",
     "output_type": "stream",
     "text": [
      "[1]:\ttest's multi_logloss:1.60623 \n",
      "[1]:\ttest's multi_logloss:1.59337 \n",
      "[1]:\ttest's multi_logloss:1.60519 \n",
      "[1]:\ttest's multi_logloss:1.59604 \n",
      "[1]:\ttest's multi_logloss:1.60811 \n",
      "[1]:\ttest's multi_logloss:1.59784 \n",
      "[1]:\ttest's multi_logloss:1.60219 \n",
      "[1]:\ttest's multi_logloss:1.60333 \n",
      "[1]:\ttest's multi_logloss:1.60758 \n",
      "[1]:\ttest's multi_logloss:1.60022 \n"
     ]
    },
    {
     "name": "stderr",
     "output_type": "stream",
     "text": [
      "[Tune-y] 81: logloss.test.mean= 1.6; time: 0.0 min; memory: 112Mb use, 181Mb max\n",
      "[Tune-x] 82: learning_rate=0.2; num_iterations=100; num_leaves=45\n"
     ]
    },
    {
     "name": "stdout",
     "output_type": "stream",
     "text": [
      "[1]:\ttest's multi_logloss:1.60605 \n",
      "[1]:\ttest's multi_logloss:1.5807 \n",
      "[1]:\ttest's multi_logloss:1.60407 \n",
      "[1]:\ttest's multi_logloss:1.58596 \n",
      "[1]:\ttest's multi_logloss:1.61007 \n",
      "[1]:\ttest's multi_logloss:1.5893 \n",
      "[1]:\ttest's multi_logloss:1.5979 \n",
      "[1]:\ttest's multi_logloss:1.60041 \n",
      "[1]:\ttest's multi_logloss:1.60888 \n",
      "[1]:\ttest's multi_logloss:1.59418 \n"
     ]
    },
    {
     "name": "stderr",
     "output_type": "stream",
     "text": [
      "[Tune-y] 82: logloss.test.mean=1.59; time: 0.0 min; memory: 116Mb use, 181Mb max\n",
      "[Tune-x] 83: learning_rate=0.3; num_iterations=100; num_leaves=45\n"
     ]
    },
    {
     "name": "stdout",
     "output_type": "stream",
     "text": [
      "[1]:\ttest's multi_logloss:1.60903 \n",
      "[1]:\ttest's multi_logloss:1.57163 \n",
      "[1]:\ttest's multi_logloss:1.60623 \n",
      "[1]:\ttest's multi_logloss:1.57939 \n",
      "[1]:\ttest's multi_logloss:1.61546 \n",
      "[1]:\ttest's multi_logloss:1.58397 \n",
      "[1]:\ttest's multi_logloss:1.5967 \n",
      "[1]:\ttest's multi_logloss:1.60084 \n",
      "[1]:\ttest's multi_logloss:1.61348 \n",
      "[1]:\ttest's multi_logloss:1.5915 \n"
     ]
    },
    {
     "name": "stderr",
     "output_type": "stream",
     "text": [
      "[Tune-y] 83: logloss.test.mean=1.58; time: 0.0 min; memory: 116Mb use, 181Mb max\n",
      "[Tune-x] 84: learning_rate=0.4; num_iterations=100; num_leaves=45\n"
     ]
    },
    {
     "name": "stdout",
     "output_type": "stream",
     "text": [
      "[1]:\ttest's multi_logloss:1.61527 \n",
      "[1]:\ttest's multi_logloss:1.56632 \n",
      "[1]:\ttest's multi_logloss:1.61183 \n",
      "[1]:\ttest's multi_logloss:1.57647 \n",
      "[1]:\ttest's multi_logloss:1.62441 \n",
      "[1]:\ttest's multi_logloss:1.58196 \n",
      "[1]:\ttest's multi_logloss:1.59873 \n",
      "[1]:\ttest's multi_logloss:1.60478 \n",
      "[1]:\ttest's multi_logloss:1.62155 \n",
      "[1]:\ttest's multi_logloss:1.59232 \n"
     ]
    },
    {
     "name": "stderr",
     "output_type": "stream",
     "text": [
      "[Tune-y] 84: logloss.test.mean=1.58; time: 0.0 min; memory: 116Mb use, 181Mb max\n",
      "[Tune-x] 85: learning_rate=0.5; num_iterations=100; num_leaves=45\n"
     ]
    },
    {
     "name": "stdout",
     "output_type": "stream",
     "text": [
      "[1]:\ttest's multi_logloss:1.62483 \n",
      "[1]:\ttest's multi_logloss:1.56488 \n",
      "[1]:\ttest's multi_logloss:1.62097 \n",
      "[1]:\ttest's multi_logloss:1.57733 \n",
      "[1]:\ttest's multi_logloss:1.63703 \n",
      "[1]:\ttest's multi_logloss:1.58337 \n",
      "[1]:\ttest's multi_logloss:1.60408 \n",
      "[1]:\ttest's multi_logloss:1.61233 \n",
      "[1]:\ttest's multi_logloss:1.63318 \n",
      "[1]:\ttest's multi_logloss:1.59675 \n"
     ]
    },
    {
     "name": "stderr",
     "output_type": "stream",
     "text": [
      "[Tune-y] 85: logloss.test.mean=1.58; time: 0.0 min; memory: 112Mb use, 181Mb max\n",
      "[Tune-x] 86: learning_rate=0.6; num_iterations=100; num_leaves=45\n"
     ]
    },
    {
     "name": "stdout",
     "output_type": "stream",
     "text": [
      "[1]:\ttest's multi_logloss:1.63776 \n",
      "[1]:\ttest's multi_logloss:1.56739 \n",
      "[1]:\ttest's multi_logloss:1.63374 \n",
      "[1]:\ttest's multi_logloss:1.58205 \n",
      "[1]:\ttest's multi_logloss:1.65336 \n",
      "[1]:\ttest's multi_logloss:1.58826 \n",
      "[1]:\ttest's multi_logloss:1.61281 \n",
      "[1]:\ttest's multi_logloss:1.62358 \n",
      "[1]:\ttest's multi_logloss:1.64845 \n",
      "[1]:\ttest's multi_logloss:1.60485 \n"
     ]
    },
    {
     "name": "stderr",
     "output_type": "stream",
     "text": [
      "[Tune-y] 86: logloss.test.mean=1.59; time: 0.0 min; memory: 116Mb use, 181Mb max\n",
      "[Tune-x] 87: learning_rate=0.7; num_iterations=100; num_leaves=45\n"
     ]
    },
    {
     "name": "stdout",
     "output_type": "stream",
     "text": [
      "[1]:\ttest's multi_logloss:1.65405 \n",
      "[1]:\ttest's multi_logloss:1.57388 \n",
      "[1]:\ttest's multi_logloss:1.65015 \n",
      "[1]:\ttest's multi_logloss:1.59067 \n",
      "[1]:\ttest's multi_logloss:1.67343 \n",
      "[1]:\ttest's multi_logloss:1.59664 \n",
      "[1]:\ttest's multi_logloss:1.62495 \n",
      "[1]:\ttest's multi_logloss:1.63857 \n",
      "[1]:\ttest's multi_logloss:1.66739 \n",
      "[1]:\ttest's multi_logloss:1.61664 \n"
     ]
    },
    {
     "name": "stderr",
     "output_type": "stream",
     "text": [
      "[Tune-y] 87: logloss.test.mean= 1.6; time: 0.0 min; memory: 116Mb use, 181Mb max\n",
      "[Tune-x] 88: learning_rate=0.8; num_iterations=100; num_leaves=45\n"
     ]
    },
    {
     "name": "stdout",
     "output_type": "stream",
     "text": [
      "[1]:\ttest's multi_logloss:1.67367 \n",
      "[1]:\ttest's multi_logloss:1.5843 \n",
      "[1]:\ttest's multi_logloss:1.6702 \n",
      "[1]:\ttest's multi_logloss:1.60318 \n",
      "[1]:\ttest's multi_logloss:1.6972 \n",
      "[1]:\ttest's multi_logloss:1.6085 \n",
      "[1]:\ttest's multi_logloss:1.64048 \n",
      "[1]:\ttest's multi_logloss:1.65729 \n",
      "[1]:\ttest's multi_logloss:1.68999 \n",
      "[1]:\ttest's multi_logloss:1.63209 \n"
     ]
    },
    {
     "name": "stderr",
     "output_type": "stream",
     "text": [
      "[Tune-y] 88: logloss.test.mean=1.61; time: 0.0 min; memory: 116Mb use, 181Mb max\n",
      "[Tune-x] 89: learning_rate=0.9; num_iterations=100; num_leaves=45\n"
     ]
    },
    {
     "name": "stdout",
     "output_type": "stream",
     "text": [
      "[1]:\ttest's multi_logloss:1.69658 \n",
      "[1]:\ttest's multi_logloss:1.59858 \n",
      "[1]:\ttest's multi_logloss:1.69384 \n",
      "[1]:\ttest's multi_logloss:1.61951 \n",
      "[1]:\ttest's multi_logloss:1.72462 \n",
      "[1]:\ttest's multi_logloss:1.62378 \n",
      "[1]:\ttest's multi_logloss:1.65935 \n",
      "[1]:\ttest's multi_logloss:1.67969 \n",
      "[1]:\ttest's multi_logloss:1.7162 \n",
      "[1]:\ttest's multi_logloss:1.65111 \n"
     ]
    },
    {
     "name": "stderr",
     "output_type": "stream",
     "text": [
      "[Tune-y] 89: logloss.test.mean=1.62; time: 0.0 min; memory: 112Mb use, 181Mb max\n",
      "[Tune-x] 90: learning_rate=1; num_iterations=100; num_leaves=45\n"
     ]
    },
    {
     "name": "stdout",
     "output_type": "stream",
     "text": [
      "[1]:\ttest's multi_logloss:1.72269 \n",
      "[1]:\ttest's multi_logloss:1.6166 \n",
      "[1]:\ttest's multi_logloss:1.72096 \n",
      "[1]:\ttest's multi_logloss:1.63959 \n",
      "[1]:\ttest's multi_logloss:1.75558 \n",
      "[1]:\ttest's multi_logloss:1.6424 \n",
      "[1]:\ttest's multi_logloss:1.68148 \n",
      "[1]:\ttest's multi_logloss:1.7057 \n",
      "[1]:\ttest's multi_logloss:1.74593 \n",
      "[1]:\ttest's multi_logloss:1.67358 \n"
     ]
    },
    {
     "name": "stderr",
     "output_type": "stream",
     "text": [
      "[Tune-y] 90: logloss.test.mean=1.64; time: 0.0 min; memory: 116Mb use, 181Mb max\n",
      "[Tune-x] 91: learning_rate=0.1; num_iterations=100; num_leaves=50\n"
     ]
    },
    {
     "name": "stdout",
     "output_type": "stream",
     "text": [
      "[1]:\ttest's multi_logloss:1.60291 \n",
      "[1]:\ttest's multi_logloss:1.59193 \n",
      "[1]:\ttest's multi_logloss:1.60401 \n",
      "[1]:\ttest's multi_logloss:1.59455 \n",
      "[1]:\ttest's multi_logloss:1.60656 \n",
      "[1]:\ttest's multi_logloss:1.5951 \n",
      "[1]:\ttest's multi_logloss:1.60012 \n",
      "[1]:\ttest's multi_logloss:1.60207 \n",
      "[1]:\ttest's multi_logloss:1.60517 \n",
      "[1]:\ttest's multi_logloss:1.59837 \n"
     ]
    },
    {
     "name": "stderr",
     "output_type": "stream",
     "text": [
      "[Tune-y] 91: logloss.test.mean= 1.6; time: 0.0 min; memory: 116Mb use, 181Mb max\n",
      "[Tune-x] 92: learning_rate=0.2; num_iterations=100; num_leaves=50\n"
     ]
    },
    {
     "name": "stdout",
     "output_type": "stream",
     "text": [
      "[1]:\ttest's multi_logloss:1.59957 \n",
      "[1]:\ttest's multi_logloss:1.57796 \n",
      "[1]:\ttest's multi_logloss:1.6018 \n",
      "[1]:\ttest's multi_logloss:1.58314 \n",
      "[1]:\ttest's multi_logloss:1.60715 \n",
      "[1]:\ttest's multi_logloss:1.584 \n",
      "[1]:\ttest's multi_logloss:1.59388 \n",
      "[1]:\ttest's multi_logloss:1.59811 \n",
      "[1]:\ttest's multi_logloss:1.60421 \n",
      "[1]:\ttest's multi_logloss:1.59076 \n"
     ]
    },
    {
     "name": "stderr",
     "output_type": "stream",
     "text": [
      "[Tune-y] 92: logloss.test.mean=1.59; time: 0.0 min; memory: 116Mb use, 181Mb max\n",
      "[Tune-x] 93: learning_rate=0.3; num_iterations=100; num_leaves=50\n"
     ]
    },
    {
     "name": "stdout",
     "output_type": "stream",
     "text": [
      "[1]:\ttest's multi_logloss:1.59953 \n",
      "[1]:\ttest's multi_logloss:1.5677 \n",
      "[1]:\ttest's multi_logloss:1.60297 \n",
      "[1]:\ttest's multi_logloss:1.57541 \n",
      "[1]:\ttest's multi_logloss:1.61138 \n",
      "[1]:\ttest's multi_logloss:1.57629 \n",
      "[1]:\ttest's multi_logloss:1.59087 \n",
      "[1]:\ttest's multi_logloss:1.59774 \n",
      "[1]:\ttest's multi_logloss:1.60675 \n",
      "[1]:\ttest's multi_logloss:1.58681 \n"
     ]
    },
    {
     "name": "stderr",
     "output_type": "stream",
     "text": [
      "[Tune-y] 93: logloss.test.mean=1.58; time: 0.0 min; memory: 112Mb use, 181Mb max\n",
      "[Tune-x] 94: learning_rate=0.4; num_iterations=100; num_leaves=50\n"
     ]
    },
    {
     "name": "stdout",
     "output_type": "stream",
     "text": [
      "[1]:\ttest's multi_logloss:1.60291 \n",
      "[1]:\ttest's multi_logloss:1.56133 \n",
      "[1]:\ttest's multi_logloss:1.60767 \n",
      "[1]:\ttest's multi_logloss:1.5715 \n",
      "[1]:\ttest's multi_logloss:1.61939 \n",
      "[1]:\ttest's multi_logloss:1.5721 \n",
      "[1]:\ttest's multi_logloss:1.5912 \n",
      "[1]:\ttest's multi_logloss:1.6011 \n",
      "[1]:\ttest's multi_logloss:1.61295 \n",
      "[1]:\ttest's multi_logloss:1.58667 \n"
     ]
    },
    {
     "name": "stderr",
     "output_type": "stream",
     "text": [
      "[Tune-y] 94: logloss.test.mean=1.58; time: 0.0 min; memory: 116Mb use, 181Mb max\n",
      "[Tune-x] 95: learning_rate=0.5; num_iterations=100; num_leaves=50\n"
     ]
    },
    {
     "name": "stdout",
     "output_type": "stream",
     "text": [
      "[1]:\ttest's multi_logloss:1.60976 \n",
      "[1]:\ttest's multi_logloss:1.55896 \n",
      "[1]:\ttest's multi_logloss:1.61603 \n",
      "[1]:\ttest's multi_logloss:1.57155 \n",
      "[1]:\ttest's multi_logloss:1.63127 \n",
      "[1]:\ttest's multi_logloss:1.57152 \n",
      "[1]:\ttest's multi_logloss:1.59496 \n",
      "[1]:\ttest's multi_logloss:1.60832 \n",
      "[1]:\ttest's multi_logloss:1.6229 \n",
      "[1]:\ttest's multi_logloss:1.59046 \n"
     ]
    },
    {
     "name": "stderr",
     "output_type": "stream",
     "text": [
      "[Tune-y] 95: logloss.test.mean=1.58; time: 0.0 min; memory: 116Mb use, 181Mb max\n",
      "[Tune-x] 96: learning_rate=0.6; num_iterations=100; num_leaves=50\n"
     ]
    },
    {
     "name": "stdout",
     "output_type": "stream",
     "text": [
      "[1]:\ttest's multi_logloss:1.62014 \n",
      "[1]:\ttest's multi_logloss:1.56067 \n",
      "[1]:\ttest's multi_logloss:1.62811 \n",
      "[1]:\ttest's multi_logloss:1.57564 \n",
      "[1]:\ttest's multi_logloss:1.64707 \n",
      "[1]:\ttest's multi_logloss:1.5746 \n",
      "[1]:\ttest's multi_logloss:1.60222 \n",
      "[1]:\ttest's multi_logloss:1.61945 \n",
      "[1]:\ttest's multi_logloss:1.6367 \n",
      "[1]:\ttest's multi_logloss:1.59825 \n"
     ]
    },
    {
     "name": "stderr",
     "output_type": "stream",
     "text": [
      "[Tune-y] 96: logloss.test.mean=1.59; time: 0.0 min; memory: 116Mb use, 181Mb max\n",
      "[Tune-x] 97: learning_rate=0.7; num_iterations=100; num_leaves=50\n"
     ]
    },
    {
     "name": "stdout",
     "output_type": "stream",
     "text": [
      "[1]:\ttest's multi_logloss:1.63403 \n",
      "[1]:\ttest's multi_logloss:1.56648 \n",
      "[1]:\ttest's multi_logloss:1.64395 \n",
      "[1]:\ttest's multi_logloss:1.5838 \n",
      "[1]:\ttest's multi_logloss:1.66682 \n",
      "[1]:\ttest's multi_logloss:1.58138 \n",
      "[1]:\ttest's multi_logloss:1.61298 \n",
      "[1]:\ttest's multi_logloss:1.63455 \n",
      "[1]:\ttest's multi_logloss:1.65436 \n",
      "[1]:\ttest's multi_logloss:1.61005 \n"
     ]
    },
    {
     "name": "stderr",
     "output_type": "stream",
     "text": [
      "[Tune-y] 97: logloss.test.mean= 1.6; time: 0.0 min; memory: 112Mb use, 181Mb max\n",
      "[Tune-x] 98: learning_rate=0.8; num_iterations=100; num_leaves=50\n"
     ]
    },
    {
     "name": "stdout",
     "output_type": "stream",
     "text": [
      "[1]:\ttest's multi_logloss:1.6514 \n",
      "[1]:\ttest's multi_logloss:1.57634 \n",
      "[1]:\ttest's multi_logloss:1.66352 \n",
      "[1]:\ttest's multi_logloss:1.59602 \n",
      "[1]:\ttest's multi_logloss:1.69048 \n",
      "[1]:\ttest's multi_logloss:1.59182 \n",
      "[1]:\ttest's multi_logloss:1.62722 \n",
      "[1]:\ttest's multi_logloss:1.65358 \n",
      "[1]:\ttest's multi_logloss:1.67588 \n",
      "[1]:\ttest's multi_logloss:1.62582 \n"
     ]
    },
    {
     "name": "stderr",
     "output_type": "stream",
     "text": [
      "[Tune-y] 98: logloss.test.mean=1.61; time: 0.0 min; memory: 116Mb use, 181Mb max\n",
      "[Tune-x] 99: learning_rate=0.9; num_iterations=100; num_leaves=50\n"
     ]
    },
    {
     "name": "stdout",
     "output_type": "stream",
     "text": [
      "[1]:\ttest's multi_logloss:1.6722 \n",
      "[1]:\ttest's multi_logloss:1.59016 \n",
      "[1]:\ttest's multi_logloss:1.68676 \n",
      "[1]:\ttest's multi_logloss:1.61223 \n",
      "[1]:\ttest's multi_logloss:1.71799 \n",
      "[1]:\ttest's multi_logloss:1.60586 \n",
      "[1]:\ttest's multi_logloss:1.64489 \n",
      "[1]:\ttest's multi_logloss:1.67651 \n",
      "[1]:\ttest's multi_logloss:1.70119 \n",
      "[1]:\ttest's multi_logloss:1.64547 \n"
     ]
    },
    {
     "name": "stderr",
     "output_type": "stream",
     "text": [
      "[Tune-y] 99: logloss.test.mean=1.63; time: 0.0 min; memory: 116Mb use, 181Mb max\n",
      "[Tune-x] 100: learning_rate=1; num_iterations=100; num_leaves=50\n"
     ]
    },
    {
     "name": "stdout",
     "output_type": "stream",
     "text": [
      "[1]:\ttest's multi_logloss:1.69631 \n",
      "[1]:\ttest's multi_logloss:1.60781 \n",
      "[1]:\ttest's multi_logloss:1.71358 \n",
      "[1]:\ttest's multi_logloss:1.63233 \n",
      "[1]:\ttest's multi_logloss:1.74922 \n",
      "[1]:\ttest's multi_logloss:1.62342 \n",
      "[1]:\ttest's multi_logloss:1.66589 \n",
      "[1]:\ttest's multi_logloss:1.70321 \n",
      "[1]:\ttest's multi_logloss:1.73018 \n",
      "[1]:\ttest's multi_logloss:1.66887 \n"
     ]
    },
    {
     "name": "stderr",
     "output_type": "stream",
     "text": [
      "[Tune-y] 100: logloss.test.mean=1.65; time: 0.0 min; memory: 116Mb use, 181Mb max\n",
      "[Tune] Result: learning_rate=0.4; num_iterations=100; num_leaves=45 : logloss.test.mean=1.58\n"
     ]
    },
    {
     "data": {
      "text/plain": [
       "   user  system elapsed \n",
       " 337.31  134.90  178.31 "
      ]
     },
     "metadata": {},
     "output_type": "display_data"
    }
   ],
   "source": [
    "res_time <- system.time(\n",
    "    lgb.res <- tuneParams(\n",
    "        learner = lgb.lrn,\n",
    "        task = lgb.task,\n",
    "        resampling = lgb.rdesc, \n",
    "        par.set = lgb.ps,\n",
    "        control = lgb.ctrl,\n",
    "        show.info = TRUE,\n",
    "        measures = list(logloss)\n",
    "    )\n",
    ")\n",
    "res_time ## 175秒"
   ]
  },
  {
   "cell_type": "markdown",
   "metadata": {},
   "source": [
    "#### 10.查看最优结果"
   ]
  },
  {
   "cell_type": "code",
   "execution_count": 10,
   "metadata": {},
   "outputs": [
    {
     "data": {
      "text/plain": [
       "Tune result:\n",
       "Op. pars: learning_rate=0.4; num_iterations=100; num_leaves=45\n",
       "logloss.test.mean=1.58"
      ]
     },
     "metadata": {},
     "output_type": "display_data"
    }
   ],
   "source": [
    "lgb.res"
   ]
  },
  {
   "cell_type": "markdown",
   "metadata": {},
   "source": [
    "#### 11.查看训练过中所有参数组合对应的交叉熵"
   ]
  },
  {
   "cell_type": "code",
   "execution_count": 11,
   "metadata": {},
   "outputs": [
    {
     "data": {
      "text/html": [
       "<table>\n",
       "<thead><tr><th scope=col>learning_rate</th><th scope=col>num_iterations</th><th scope=col>num_leaves</th><th scope=col>logloss.test.mean</th><th scope=col>dob</th><th scope=col>eol</th><th scope=col>error.message</th><th scope=col>exec.time</th></tr></thead>\n",
       "<tbody>\n",
       "\t<tr><td>0.4     </td><td>100     </td><td>45      </td><td>1.584683</td><td>84      </td><td>NA      </td><td>NA      </td><td>1.47    </td></tr>\n",
       "\t<tr><td>0.4     </td><td>100     </td><td>40      </td><td>1.584914</td><td>74      </td><td>NA      </td><td>NA      </td><td>1.34    </td></tr>\n",
       "\t<tr><td>0.4     </td><td>100     </td><td>50      </td><td>1.584957</td><td>94      </td><td>NA      </td><td>NA      </td><td>1.48    </td></tr>\n",
       "\t<tr><td>0.4     </td><td>100     </td><td>35      </td><td>1.584984</td><td>64      </td><td>NA      </td><td>NA      </td><td>1.39    </td></tr>\n",
       "\t<tr><td>0.5     </td><td>100     </td><td>35      </td><td>1.585737</td><td>65      </td><td>NA      </td><td>NA      </td><td>1.39    </td></tr>\n",
       "</tbody>\n",
       "</table>\n"
      ],
      "text/latex": [
       "\\begin{tabular}{r|llllllll}\n",
       " learning\\_rate & num\\_iterations & num\\_leaves & logloss.test.mean & dob & eol & error.message & exec.time\\\\\n",
       "\\hline\n",
       "\t 0.4      & 100      & 45       & 1.584683 & 84       & NA       & NA       & 1.47    \\\\\n",
       "\t 0.4      & 100      & 40       & 1.584914 & 74       & NA       & NA       & 1.34    \\\\\n",
       "\t 0.4      & 100      & 50       & 1.584957 & 94       & NA       & NA       & 1.48    \\\\\n",
       "\t 0.4      & 100      & 35       & 1.584984 & 64       & NA       & NA       & 1.39    \\\\\n",
       "\t 0.5      & 100      & 35       & 1.585737 & 65       & NA       & NA       & 1.39    \\\\\n",
       "\\end{tabular}\n"
      ],
      "text/markdown": [
       "\n",
       "learning_rate | num_iterations | num_leaves | logloss.test.mean | dob | eol | error.message | exec.time | \n",
       "|---|---|---|---|---|\n",
       "| 0.4      | 100      | 45       | 1.584683 | 84       | NA       | NA       | 1.47     | \n",
       "| 0.4      | 100      | 40       | 1.584914 | 74       | NA       | NA       | 1.34     | \n",
       "| 0.4      | 100      | 50       | 1.584957 | 94       | NA       | NA       | 1.48     | \n",
       "| 0.4      | 100      | 35       | 1.584984 | 64       | NA       | NA       | 1.39     | \n",
       "| 0.5      | 100      | 35       | 1.585737 | 65       | NA       | NA       | 1.39     | \n",
       "\n",
       "\n"
      ],
      "text/plain": [
       "  learning_rate num_iterations num_leaves logloss.test.mean dob eol\n",
       "1 0.4           100            45         1.584683          84  NA \n",
       "2 0.4           100            40         1.584914          74  NA \n",
       "3 0.4           100            50         1.584957          94  NA \n",
       "4 0.4           100            35         1.584984          64  NA \n",
       "5 0.5           100            35         1.585737          65  NA \n",
       "  error.message exec.time\n",
       "1 NA            1.47     \n",
       "2 NA            1.34     \n",
       "3 NA            1.48     \n",
       "4 NA            1.39     \n",
       "5 NA            1.39     "
      ]
     },
     "metadata": {},
     "output_type": "display_data"
    }
   ],
   "source": [
    "lgb.opt.path <- as.data.frame(trafoOptPath(lgb.res$opt.path))\n",
    "lgb.opt.path  %>% arrange(logloss.test.mean) %>% head(5)"
   ]
  },
  {
   "cell_type": "markdown",
   "metadata": {},
   "source": [
    "#### 12.预测\n",
    "即用最优参数训练模型，对测试数据进行预测，具体如下：  \n",
    "1）构建训练模型用的函数（用mlr封装lightgbm算法）；  \n",
    "2）构建学习任务；  \n",
    "3）设定参数；  \n",
    "4）设定学习器；  \n",
    "5）训练模型；  \n",
    "6）预测；  \n",
    "7）计算multilogloss；  \n",
    "具体脚本如下："
   ]
  },
  {
   "cell_type": "code",
   "execution_count": 12,
   "metadata": {
    "collapsed": true
   },
   "outputs": [],
   "source": [
    "makeRLearner.classif.lgb2 = function() {\n",
    "    makeRLearnerClassif(\n",
    "        cl = \"classif.lgb\",\n",
    "        package = \"lightgbm\",\n",
    "        par.set = makeParamSet(\n",
    "            makeIntegerLearnerParam(id = \"num_iterations\", default = 100, lower=1), \n",
    "            makeIntegerLearnerParam(id = \"nrounds\", default = 10, lower = 1, upper = 1e4), \n",
    "            makeIntegerLearnerParam(id = \"verbose\", default = 1),\n",
    "            makeDiscreteLearnerParam(id = \"boosting\", default = \"gbdt\", values = c(\"gbdt\", \"rf\", \"dart\", \"goss\")), \n",
    "            makeNumericLearnerParam(id = \"learning_rate\", default = 0.1, lower = 0),\n",
    "            makeIntegerLearnerParam(id = \"max_depth\", default = -1, lower = -1),  \n",
    "            makeIntegerLearnerParam(id = \"min_data_in_leaf\", default = 20, lower = 0), \n",
    "            makeIntegerLearnerParam(id = \"num_leaves\", default = 31, lower = 1),\n",
    "            makeNumericLearnerParam(id = \"feature_fraction\", default = 1, lower = 0, upper = 1), \n",
    "            makeNumericLearnerParam(id = \"bagging_fraction\", default = 1, lower = 0, upper = 1),\n",
    "            makeIntegerLearnerParam(id = \"bagging_freq\", default = 0, lower = 0), \n",
    "            makeNumericLearnerParam(id = \"min_gain_to_split\", default = 0, lower = 0),\n",
    "            makeNumericLearnerParam(id = \"min_sum_hessian\", default = 10),\n",
    "            makeIntegerLearnerParam(id = \"early_stopping_round\", default = 0, lower = 0),\n",
    "            makeNumericLearnerParam(id = \"lambda_l1\", default = 0, lower = 0),\n",
    "            makeNumericLearnerParam(id = \"lambda_l2\", default = 0, lower = 0), \n",
    "            makeNumericLearnerParam(id = \"drop_rate\", default = 0.1, lower = 0, upper = 1, requires = quote(boosting == \"dart\")),\n",
    "            makeIntegerLearnerParam(id = \"max_drop\", default = 50, requires = quote(boosting == \"dart\")),\n",
    "            makeLogicalLearnerParam(id = \"uniform_drop\", default = FALSE, requires = quote(boosting == \"dart\")),\n",
    "            makeLogicalLearnerParam(id = \"xgboost_dart_mode\", default = FALSE, requires = quote(boosting == \"dart\")),\n",
    "            makeNumericLearnerParam(id = \"top_rate\", default = 0.2, lower = 0.1, upper = 1, requires = quote(boosting == \"goss\")),\n",
    "            makeNumericLearnerParam(id = \"other_rate\", default = 0.1, lower = 0, upper = 1, requires = quote(boosting == \"goss\")),\n",
    "            makeIntegerLearnerParam(id = \"max_cat_group\", default = 64),\n",
    "            makeIntegerLearnerParam(id = \"max_cat_threshold\", default = 256),\n",
    "            makeNumericLearnerParam(id = \"min_cat_smooth\", default = 5),\n",
    "            makeNumericLearnerParam(id = \"max_cat_smooth\", default = 100),\n",
    "            makeNumericLearnerParam(id = \"cat_smooth_ratio\", default = 0.01),\n",
    "            ## 用于分类变量，可以减小分类变量中噪音的影响，特别是类别中数据较少的分别变量\n",
    "            makeIntegerLearnerParam(id = \"max_bin\", default = 255),\n",
    "            ## 数据行分组数，少的分组数会降低训练精度（训练速度快），但是可以提升泛化能力\n",
    "            makeIntegerLearnerParam(id = \"min_data_in_bin\", default = 5),\n",
    "            ## 分组内最小用户数\n",
    "            makeLogicalLearnerParam(id = \"header\", default = FALSE),\n",
    "            ## 设置为TRUE表示数据有字段名\n",
    "            makeLogicalLearnerParam(id=\"use_missing\", default = TRUE,tunable = FALSE),\n",
    "            ## 设置为FALSE将不能对缺失值进行特殊操作 \n",
    "            makeLogicalLearnerParam(id = \"zero_as_missing\", default = FALSE),\n",
    "            ## 是否用0代替缺失值与未知值\n",
    "            makeIntegerLearnerParam(id = \"num_class\", default = 9, lower = 1, upper = 1e6),\n",
    "            ## 声明多分类中的类数\n",
    "            makeDiscreteLearnerParam(id = \"metric\", default = \"multi_logloss\", values = c(\"multi_logloss\", \"multi_error\")),\n",
    "            makeLogicalLearnerParam(id = \"is_training_metric\", default = TRUE),\n",
    "            ## set this to TRUE if need to output metric result of training\n",
    "            makeDiscreteLearnerParam(id = \"objective\", default = \"multiclass\", values = c(\"multiclass\", \"binary\")),\n",
    "            makeDiscreteLearnerParam(id = \"predict.method\", values = c(\"plug-in\", \"predictive\", \"debiased\"), default = \"plug-in\", when = \"predict\")\n",
    "        ),\n",
    "        par.vals = list(objective = \"multiclass\"),## 此处请按个人需求修改\n",
    "        properties = c(\"multiclass\", \"numerics\", \"factors\", \"prob\", \"weights\"), \n",
    "        name = \"LightGBM\",\n",
    "        short.name = \"lgb\",\n",
    "        note = \"Learner param 'predict.method' maps to 'method' in predict.lgb.\"\n",
    "    )\n",
    "}\n",
    "\n",
    "trainLearner.classif.lgb = function(.learner, .task, .subset, .weights = NULL,  ...) {\n",
    "    data = getTaskData(.task, .subset, target.extra = TRUE)\n",
    "    lgb.data1 = lgb.Dataset(\n",
    "        data = as.matrix(data$data), ## 请将此处data_train修改为实际训练数据集的名称,见第3步\n",
    "        label = as.integer(data$target) - 1L ## 请将此处data_train修改为实际训练数据集的名称\n",
    "    )\n",
    "    \n",
    "    lightgbm::lgb.train(\n",
    "        list(), \n",
    "        data = lgb.data1,\n",
    "        num_threads = 4, ## 请按实际需要的电脑线程数进行修改，默认值为CPU核数，非线程数（譬如本人电脑为两核四线程，则默认值为2）\n",
    "        verbose = 1,\n",
    "        record = TRUE,\n",
    "        #objective = \"multiclass\",\n",
    "        #metric = \"multi_logloss\",\n",
    "        #num_class = 5,\n",
    "        ...\n",
    "    )\n",
    "}\n",
    "\n",
    "predictLearner.classif.lgb = function(.learner, .model, .newdata, ...) {\n",
    "    p = predict(.model$learner.model, data.matrix(.newdata), reshape = TRUE, ...)\n",
    "    colnames(p) <- 0:4\n",
    "    return(p)\n",
    "}\n",
    "\n",
    "registerS3method(\"makeRLearner\", \"classif.lgb\", makeRLearner.classif.lgb)\n",
    "registerS3method(\"trainLearner\", \"classif.lgb\", trainLearner.classif.lgb)\n",
    "registerS3method(\"predictLearner\", \"classif.lgb\", predictLearner.classif.lgb)\n"
   ]
  },
  {
   "cell_type": "code",
   "execution_count": 13,
   "metadata": {
    "collapsed": true
   },
   "outputs": [],
   "source": [
    "data_total2 <- rbind(data_train, data_test)\n",
    "## 构建任务\n",
    "lgb.task <- makeClassifTask(id = \"multi\", data = data_total2, target = \"V1\")\n",
    "\n",
    "## 参数\n",
    "lgb.ps <- list(\n",
    "    objective = \"multiclass\",\n",
    "    metric = \"multi_logloss\",\n",
    "    num_class = 5,\n",
    "    header = TRUE,\n",
    "    learning_rate = .4, ## 修改为tuneParams训练出来的最优参数\n",
    "    num_iterations = 100, \n",
    "    num_leaves = 45  ## 修改为tuneParams训练出来的最优参数\n",
    ")\n",
    "\n",
    "## 学习器\n",
    "lgb.lrn <- makeLearner(\n",
    "    \"classif.lgb2\", \n",
    "    predict.type = \"prob\",\n",
    "    par.vals = lgb.ps\n",
    ")\n",
    "\n",
    "## 训练\n",
    "lgb.train1 <- train(\n",
    "    learner = lgb.lrn,\n",
    "    task = lgb.task,\n",
    "    subset = 1:dim(data_train)[1]\n",
    ")"
   ]
  },
  {
   "cell_type": "code",
   "execution_count": 14,
   "metadata": {},
   "outputs": [
    {
     "name": "stderr",
     "output_type": "stream",
     "text": [
      "\n",
      "Attaching package: 'MLmetrics'\n",
      "\n",
      "The following object is masked from 'package:base':\n",
      "\n",
      "    Recall\n",
      "\n"
     ]
    },
    {
     "data": {
      "text/html": [
       "1.37964446680877"
      ],
      "text/latex": [
       "1.37964446680877"
      ],
      "text/markdown": [
       "1.37964446680877"
      ],
      "text/plain": [
       "[1] 1.379644"
      ]
     },
     "metadata": {},
     "output_type": "display_data"
    }
   ],
   "source": [
    "## 预测测试集\n",
    "t_data <- getTaskData(lgb.task, subset = (dim(data_train)[1] + 1):dim(data_total2)[1], target.extra = TRUE)$data\n",
    "lgb.pred_mlr <- predict(lgb.train1, newdata = t_data)\n",
    "lgb.pred_mlr_data = as.matrix(lgb.pred_mlr$data[, 1:5])\n",
    "\n",
    "## 计算multilogloss\n",
    "library(MLmetrics)\n",
    "MultiLogLoss(lgb.pred_mlr_data, data_test$V1)"
   ]
  },
  {
   "cell_type": "markdown",
   "metadata": {
    "collapsed": true
   },
   "source": [
    "#### 13.注：\n",
    "1）本人测试以上程序所使用电脑为win10，两核四线程；  \n",
    "2）本人所使用的lightgbm为CPU版本，未调用GPU；  \n",
    "3) 本人所测试程序为R版本lightgbm，本人所用R为Microsoft R Server9.1.0版本；  \n",
    "4）本人运行循环程序时长为334秒；  \n",
    "5）栅格设置处，learning_rate/num_leaves的每组值之间的间距设置不合理，例如learning的每个值之间的间距随着learning_rate的增加而增加更为合理，此处设置只是为了说明问题而已，请根据实际情况决定，勿采纳！  \n",
    "6）第一个lightgbm的封装函数可以设置nrounds=10进行10折交叉验证，但是使用tuneParams函数时必须设置重抽样方法；因此封装lightgbm时设置nrounds=1，在makeResampleDesc函数中设置iters=10。"
   ]
  },
  {
   "cell_type": "code",
   "execution_count": null,
   "metadata": {
    "collapsed": true
   },
   "outputs": [],
   "source": []
  }
 ],
 "metadata": {
  "kernelspec": {
   "display_name": "R",
   "language": "R",
   "name": "ir"
  },
  "language_info": {
   "codemirror_mode": "r",
   "file_extension": ".r",
   "mimetype": "text/x-r-source",
   "name": "R",
   "pygments_lexer": "r",
   "version": "3.3.3"
  }
 },
 "nbformat": 4,
 "nbformat_minor": 2
}
